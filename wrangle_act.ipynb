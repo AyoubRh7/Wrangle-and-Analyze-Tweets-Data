{
 "cells": [
  {
   "cell_type": "markdown",
   "metadata": {
    "extensions": {
     "jupyter_dashboards": {
      "version": 1,
      "views": {
       "grid_default": {
        "col": 0,
        "height": 4,
        "hidden": false,
        "row": 0,
        "width": 4
       },
       "report_default": {
        "hidden": false
       }
      }
     }
    }
   },
   "source": [
    "# Project: Wrangling and Analyze Data"
   ]
  },
  {
   "cell_type": "code",
   "execution_count": 1,
   "metadata": {},
   "outputs": [],
   "source": [
    "#Import libraries\n",
    "import pandas as pd\n",
    "import numpy as np\n",
    "import matplotlib.pyplot as plt\n",
    "%matplotlib inline\n",
    "import requests\n",
    "import json\n",
    "import tweepy\n",
    "import time"
   ]
  },
  {
   "cell_type": "markdown",
   "metadata": {},
   "source": [
    "## Data Gathering\n",
    "In the cell below, gather **all** three pieces of data for this project and load them in the notebook. **Note:** the methods required to gather each data are different.\n",
    "1. Directly download the WeRateDogs Twitter archive data (twitter_archive_enhanced.csv)"
   ]
  },
  {
   "cell_type": "code",
   "execution_count": 2,
   "metadata": {
    "extensions": {
     "jupyter_dashboards": {
      "version": 1,
      "views": {
       "grid_default": {
        "hidden": true
       },
       "report_default": {
        "hidden": true
       }
      }
     }
    }
   },
   "outputs": [],
   "source": [
    "# import the twitter archive data and affect it to a datatframe\n",
    "df_tarchive = pd.read_csv('twitter_archive_enhanced.csv')"
   ]
  },
  {
   "cell_type": "code",
   "execution_count": 6,
   "metadata": {},
   "outputs": [
    {
     "data": {
      "text/html": [
       "<div>\n",
       "<style scoped>\n",
       "    .dataframe tbody tr th:only-of-type {\n",
       "        vertical-align: middle;\n",
       "    }\n",
       "\n",
       "    .dataframe tbody tr th {\n",
       "        vertical-align: top;\n",
       "    }\n",
       "\n",
       "    .dataframe thead th {\n",
       "        text-align: right;\n",
       "    }\n",
       "</style>\n",
       "<table border=\"1\" class=\"dataframe\">\n",
       "  <thead>\n",
       "    <tr style=\"text-align: right;\">\n",
       "      <th></th>\n",
       "      <th>tweet_id</th>\n",
       "      <th>in_reply_to_status_id</th>\n",
       "      <th>in_reply_to_user_id</th>\n",
       "      <th>timestamp</th>\n",
       "      <th>source</th>\n",
       "      <th>text</th>\n",
       "      <th>retweeted_status_id</th>\n",
       "      <th>retweeted_status_user_id</th>\n",
       "      <th>retweeted_status_timestamp</th>\n",
       "      <th>expanded_urls</th>\n",
       "      <th>rating_numerator</th>\n",
       "      <th>rating_denominator</th>\n",
       "      <th>name</th>\n",
       "      <th>doggo</th>\n",
       "      <th>floofer</th>\n",
       "      <th>pupper</th>\n",
       "      <th>puppo</th>\n",
       "    </tr>\n",
       "  </thead>\n",
       "  <tbody>\n",
       "    <tr>\n",
       "      <th>0</th>\n",
       "      <td>892420643555336193</td>\n",
       "      <td>NaN</td>\n",
       "      <td>NaN</td>\n",
       "      <td>2017-08-01 16:23:56 +0000</td>\n",
       "      <td>&lt;a href=\"http://twitter.com/download/iphone\" r...</td>\n",
       "      <td>This is Phineas. He's a mystical boy. Only eve...</td>\n",
       "      <td>NaN</td>\n",
       "      <td>NaN</td>\n",
       "      <td>NaN</td>\n",
       "      <td>https://twitter.com/dog_rates/status/892420643...</td>\n",
       "      <td>13</td>\n",
       "      <td>10</td>\n",
       "      <td>Phineas</td>\n",
       "      <td>None</td>\n",
       "      <td>None</td>\n",
       "      <td>None</td>\n",
       "      <td>None</td>\n",
       "    </tr>\n",
       "    <tr>\n",
       "      <th>1</th>\n",
       "      <td>892177421306343426</td>\n",
       "      <td>NaN</td>\n",
       "      <td>NaN</td>\n",
       "      <td>2017-08-01 00:17:27 +0000</td>\n",
       "      <td>&lt;a href=\"http://twitter.com/download/iphone\" r...</td>\n",
       "      <td>This is Tilly. She's just checking pup on you....</td>\n",
       "      <td>NaN</td>\n",
       "      <td>NaN</td>\n",
       "      <td>NaN</td>\n",
       "      <td>https://twitter.com/dog_rates/status/892177421...</td>\n",
       "      <td>13</td>\n",
       "      <td>10</td>\n",
       "      <td>Tilly</td>\n",
       "      <td>None</td>\n",
       "      <td>None</td>\n",
       "      <td>None</td>\n",
       "      <td>None</td>\n",
       "    </tr>\n",
       "    <tr>\n",
       "      <th>2</th>\n",
       "      <td>891815181378084864</td>\n",
       "      <td>NaN</td>\n",
       "      <td>NaN</td>\n",
       "      <td>2017-07-31 00:18:03 +0000</td>\n",
       "      <td>&lt;a href=\"http://twitter.com/download/iphone\" r...</td>\n",
       "      <td>This is Archie. He is a rare Norwegian Pouncin...</td>\n",
       "      <td>NaN</td>\n",
       "      <td>NaN</td>\n",
       "      <td>NaN</td>\n",
       "      <td>https://twitter.com/dog_rates/status/891815181...</td>\n",
       "      <td>12</td>\n",
       "      <td>10</td>\n",
       "      <td>Archie</td>\n",
       "      <td>None</td>\n",
       "      <td>None</td>\n",
       "      <td>None</td>\n",
       "      <td>None</td>\n",
       "    </tr>\n",
       "    <tr>\n",
       "      <th>3</th>\n",
       "      <td>891689557279858688</td>\n",
       "      <td>NaN</td>\n",
       "      <td>NaN</td>\n",
       "      <td>2017-07-30 15:58:51 +0000</td>\n",
       "      <td>&lt;a href=\"http://twitter.com/download/iphone\" r...</td>\n",
       "      <td>This is Darla. She commenced a snooze mid meal...</td>\n",
       "      <td>NaN</td>\n",
       "      <td>NaN</td>\n",
       "      <td>NaN</td>\n",
       "      <td>https://twitter.com/dog_rates/status/891689557...</td>\n",
       "      <td>13</td>\n",
       "      <td>10</td>\n",
       "      <td>Darla</td>\n",
       "      <td>None</td>\n",
       "      <td>None</td>\n",
       "      <td>None</td>\n",
       "      <td>None</td>\n",
       "    </tr>\n",
       "    <tr>\n",
       "      <th>4</th>\n",
       "      <td>891327558926688256</td>\n",
       "      <td>NaN</td>\n",
       "      <td>NaN</td>\n",
       "      <td>2017-07-29 16:00:24 +0000</td>\n",
       "      <td>&lt;a href=\"http://twitter.com/download/iphone\" r...</td>\n",
       "      <td>This is Franklin. He would like you to stop ca...</td>\n",
       "      <td>NaN</td>\n",
       "      <td>NaN</td>\n",
       "      <td>NaN</td>\n",
       "      <td>https://twitter.com/dog_rates/status/891327558...</td>\n",
       "      <td>12</td>\n",
       "      <td>10</td>\n",
       "      <td>Franklin</td>\n",
       "      <td>None</td>\n",
       "      <td>None</td>\n",
       "      <td>None</td>\n",
       "      <td>None</td>\n",
       "    </tr>\n",
       "  </tbody>\n",
       "</table>\n",
       "</div>"
      ],
      "text/plain": [
       "             tweet_id  in_reply_to_status_id  in_reply_to_user_id  \\\n",
       "0  892420643555336193                    NaN                  NaN   \n",
       "1  892177421306343426                    NaN                  NaN   \n",
       "2  891815181378084864                    NaN                  NaN   \n",
       "3  891689557279858688                    NaN                  NaN   \n",
       "4  891327558926688256                    NaN                  NaN   \n",
       "\n",
       "                   timestamp  \\\n",
       "0  2017-08-01 16:23:56 +0000   \n",
       "1  2017-08-01 00:17:27 +0000   \n",
       "2  2017-07-31 00:18:03 +0000   \n",
       "3  2017-07-30 15:58:51 +0000   \n",
       "4  2017-07-29 16:00:24 +0000   \n",
       "\n",
       "                                              source  \\\n",
       "0  <a href=\"http://twitter.com/download/iphone\" r...   \n",
       "1  <a href=\"http://twitter.com/download/iphone\" r...   \n",
       "2  <a href=\"http://twitter.com/download/iphone\" r...   \n",
       "3  <a href=\"http://twitter.com/download/iphone\" r...   \n",
       "4  <a href=\"http://twitter.com/download/iphone\" r...   \n",
       "\n",
       "                                                text  retweeted_status_id  \\\n",
       "0  This is Phineas. He's a mystical boy. Only eve...                  NaN   \n",
       "1  This is Tilly. She's just checking pup on you....                  NaN   \n",
       "2  This is Archie. He is a rare Norwegian Pouncin...                  NaN   \n",
       "3  This is Darla. She commenced a snooze mid meal...                  NaN   \n",
       "4  This is Franklin. He would like you to stop ca...                  NaN   \n",
       "\n",
       "   retweeted_status_user_id retweeted_status_timestamp  \\\n",
       "0                       NaN                        NaN   \n",
       "1                       NaN                        NaN   \n",
       "2                       NaN                        NaN   \n",
       "3                       NaN                        NaN   \n",
       "4                       NaN                        NaN   \n",
       "\n",
       "                                       expanded_urls  rating_numerator  \\\n",
       "0  https://twitter.com/dog_rates/status/892420643...                13   \n",
       "1  https://twitter.com/dog_rates/status/892177421...                13   \n",
       "2  https://twitter.com/dog_rates/status/891815181...                12   \n",
       "3  https://twitter.com/dog_rates/status/891689557...                13   \n",
       "4  https://twitter.com/dog_rates/status/891327558...                12   \n",
       "\n",
       "   rating_denominator      name doggo floofer pupper puppo  \n",
       "0                  10   Phineas  None    None   None  None  \n",
       "1                  10     Tilly  None    None   None  None  \n",
       "2                  10    Archie  None    None   None  None  \n",
       "3                  10     Darla  None    None   None  None  \n",
       "4                  10  Franklin  None    None   None  None  "
      ]
     },
     "execution_count": 6,
     "metadata": {},
     "output_type": "execute_result"
    }
   ],
   "source": [
    "df_tarchive.head()"
   ]
  },
  {
   "cell_type": "markdown",
   "metadata": {},
   "source": [
    "2. Use the Requests library to download the tweet image prediction (image_predictions.tsv)"
   ]
  },
  {
   "cell_type": "code",
   "execution_count": 3,
   "metadata": {},
   "outputs": [],
   "source": [
    "#impoting the tweet image prediction automatically data using requests library\n",
    "url = \"https://d17h27t6h515a5.cloudfront.net/topher/2017/August/599fd2ad_image-predictions/image-predictions.tsv\"\n",
    "response = requests.get(url)\n",
    "with open('image_predictions.tsv', mode='wb') as file :\n",
    "    file.write(response.content)"
   ]
  },
  {
   "cell_type": "code",
   "execution_count": 4,
   "metadata": {},
   "outputs": [],
   "source": [
    "# affect the data to a dataframe\n",
    "df_image = pd.read_csv('image_predictions.tsv',sep=\"\\t\")"
   ]
  },
  {
   "cell_type": "code",
   "execution_count": 5,
   "metadata": {},
   "outputs": [
    {
     "data": {
      "text/html": [
       "<div>\n",
       "<style scoped>\n",
       "    .dataframe tbody tr th:only-of-type {\n",
       "        vertical-align: middle;\n",
       "    }\n",
       "\n",
       "    .dataframe tbody tr th {\n",
       "        vertical-align: top;\n",
       "    }\n",
       "\n",
       "    .dataframe thead th {\n",
       "        text-align: right;\n",
       "    }\n",
       "</style>\n",
       "<table border=\"1\" class=\"dataframe\">\n",
       "  <thead>\n",
       "    <tr style=\"text-align: right;\">\n",
       "      <th></th>\n",
       "      <th>tweet_id</th>\n",
       "      <th>jpg_url</th>\n",
       "      <th>img_num</th>\n",
       "      <th>p1</th>\n",
       "      <th>p1_conf</th>\n",
       "      <th>p1_dog</th>\n",
       "      <th>p2</th>\n",
       "      <th>p2_conf</th>\n",
       "      <th>p2_dog</th>\n",
       "      <th>p3</th>\n",
       "      <th>p3_conf</th>\n",
       "      <th>p3_dog</th>\n",
       "    </tr>\n",
       "  </thead>\n",
       "  <tbody>\n",
       "    <tr>\n",
       "      <th>0</th>\n",
       "      <td>666020888022790149</td>\n",
       "      <td>https://pbs.twimg.com/media/CT4udn0WwAA0aMy.jpg</td>\n",
       "      <td>1</td>\n",
       "      <td>Welsh_springer_spaniel</td>\n",
       "      <td>0.465074</td>\n",
       "      <td>True</td>\n",
       "      <td>collie</td>\n",
       "      <td>0.156665</td>\n",
       "      <td>True</td>\n",
       "      <td>Shetland_sheepdog</td>\n",
       "      <td>0.061428</td>\n",
       "      <td>True</td>\n",
       "    </tr>\n",
       "    <tr>\n",
       "      <th>1</th>\n",
       "      <td>666029285002620928</td>\n",
       "      <td>https://pbs.twimg.com/media/CT42GRgUYAA5iDo.jpg</td>\n",
       "      <td>1</td>\n",
       "      <td>redbone</td>\n",
       "      <td>0.506826</td>\n",
       "      <td>True</td>\n",
       "      <td>miniature_pinscher</td>\n",
       "      <td>0.074192</td>\n",
       "      <td>True</td>\n",
       "      <td>Rhodesian_ridgeback</td>\n",
       "      <td>0.072010</td>\n",
       "      <td>True</td>\n",
       "    </tr>\n",
       "    <tr>\n",
       "      <th>2</th>\n",
       "      <td>666033412701032449</td>\n",
       "      <td>https://pbs.twimg.com/media/CT4521TWwAEvMyu.jpg</td>\n",
       "      <td>1</td>\n",
       "      <td>German_shepherd</td>\n",
       "      <td>0.596461</td>\n",
       "      <td>True</td>\n",
       "      <td>malinois</td>\n",
       "      <td>0.138584</td>\n",
       "      <td>True</td>\n",
       "      <td>bloodhound</td>\n",
       "      <td>0.116197</td>\n",
       "      <td>True</td>\n",
       "    </tr>\n",
       "    <tr>\n",
       "      <th>3</th>\n",
       "      <td>666044226329800704</td>\n",
       "      <td>https://pbs.twimg.com/media/CT5Dr8HUEAA-lEu.jpg</td>\n",
       "      <td>1</td>\n",
       "      <td>Rhodesian_ridgeback</td>\n",
       "      <td>0.408143</td>\n",
       "      <td>True</td>\n",
       "      <td>redbone</td>\n",
       "      <td>0.360687</td>\n",
       "      <td>True</td>\n",
       "      <td>miniature_pinscher</td>\n",
       "      <td>0.222752</td>\n",
       "      <td>True</td>\n",
       "    </tr>\n",
       "    <tr>\n",
       "      <th>4</th>\n",
       "      <td>666049248165822465</td>\n",
       "      <td>https://pbs.twimg.com/media/CT5IQmsXIAAKY4A.jpg</td>\n",
       "      <td>1</td>\n",
       "      <td>miniature_pinscher</td>\n",
       "      <td>0.560311</td>\n",
       "      <td>True</td>\n",
       "      <td>Rottweiler</td>\n",
       "      <td>0.243682</td>\n",
       "      <td>True</td>\n",
       "      <td>Doberman</td>\n",
       "      <td>0.154629</td>\n",
       "      <td>True</td>\n",
       "    </tr>\n",
       "  </tbody>\n",
       "</table>\n",
       "</div>"
      ],
      "text/plain": [
       "             tweet_id                                          jpg_url  \\\n",
       "0  666020888022790149  https://pbs.twimg.com/media/CT4udn0WwAA0aMy.jpg   \n",
       "1  666029285002620928  https://pbs.twimg.com/media/CT42GRgUYAA5iDo.jpg   \n",
       "2  666033412701032449  https://pbs.twimg.com/media/CT4521TWwAEvMyu.jpg   \n",
       "3  666044226329800704  https://pbs.twimg.com/media/CT5Dr8HUEAA-lEu.jpg   \n",
       "4  666049248165822465  https://pbs.twimg.com/media/CT5IQmsXIAAKY4A.jpg   \n",
       "\n",
       "   img_num                      p1   p1_conf  p1_dog                  p2  \\\n",
       "0        1  Welsh_springer_spaniel  0.465074    True              collie   \n",
       "1        1                 redbone  0.506826    True  miniature_pinscher   \n",
       "2        1         German_shepherd  0.596461    True            malinois   \n",
       "3        1     Rhodesian_ridgeback  0.408143    True             redbone   \n",
       "4        1      miniature_pinscher  0.560311    True          Rottweiler   \n",
       "\n",
       "    p2_conf  p2_dog                   p3   p3_conf  p3_dog  \n",
       "0  0.156665    True    Shetland_sheepdog  0.061428    True  \n",
       "1  0.074192    True  Rhodesian_ridgeback  0.072010    True  \n",
       "2  0.138584    True           bloodhound  0.116197    True  \n",
       "3  0.360687    True   miniature_pinscher  0.222752    True  \n",
       "4  0.243682    True             Doberman  0.154629    True  "
      ]
     },
     "execution_count": 5,
     "metadata": {},
     "output_type": "execute_result"
    }
   ],
   "source": [
    "df_image.head()"
   ]
  },
  {
   "cell_type": "markdown",
   "metadata": {},
   "source": [
    "3. Use the Tweepy library to query additional data via the Twitter API (tweet_json.txt)"
   ]
  },
  {
   "cell_type": "code",
   "execution_count": 7,
   "metadata": {},
   "outputs": [],
   "source": [
    "# !!! after fetching the data I save it as tsv file so no need to use the api again\n",
    "\n",
    "# authentification to the twitter api\n",
    "#api_key = \"\"\n",
    "#api_key_secret = \"\"\n",
    "#access_token = \"\"\n",
    "#access_token_secret = \"\"\n",
    "\n",
    "#auth = tweepy.OAuthHandler(api_key, api_key_secret)\n",
    "#auth.set_access_token(access_token, access_token_secret)\n",
    "\n",
    "#api = tweepy.API(auth,parser=tweepy.parsers.JSONParser())\n"
   ]
  },
  {
   "cell_type": "code",
   "execution_count": 8,
   "metadata": {},
   "outputs": [
    {
     "name": "stdout",
     "output_type": "stream",
     "text": [
      "Rate limit reached. Sleeping for: 723\n",
      "Rate limit reached. Sleeping for: 728\n",
      "time needed to get data: 31.941511873404185 Min\n",
      "number of tweets with successfull data : 2325\n",
      "number of tweets with failed data : 31\n"
     ]
    }
   ],
   "source": [
    "### !!! I save the data as tsv file so no need to use the api if you don't have the tokens\n",
    "# Start a timer to watch how much time \n",
    "# the operation(getting data from api twitter api) takes\n",
    "timer_start = time.time()\n",
    "\n",
    "#get the tweets ids to use them to search for data\n",
    "tweets_ids = df_tarchive['tweet_id'].values\n",
    "\n",
    "# list to store data\n",
    "tweets_data = []\n",
    "# list to store tweets ids that we manage to get their data with success\n",
    "tweets_success = []\n",
    "# list to store tweets ids that we fail to get their data\n",
    "tweets_failed = []\n",
    "#count successeded tweets \n",
    "tsuccess = 0\n",
    "#count failed tweets \n",
    "tfail = 0\n",
    "\n",
    "# loop through all the tweets ids that we ave fro the archive\n",
    "# and get their data from twitter api\n",
    "for tweet_id in tweets_ids:\n",
    "    try:\n",
    "        data = api.get_status(tweet_id, tweet_mode='extended',\n",
    "                              wait_on_rate_limit = True,\n",
    "                             wait_on_rate_limit_notify = True)\n",
    "        tweets_data.append(data)\n",
    "        tweets_success.append(tweet_id)\n",
    "        tsuccess+=1\n",
    "    except:\n",
    "        tweets_failed.append(tweet_id)\n",
    "        tfail +=1\n",
    "\n",
    "# stop the timer\n",
    "timer_end = time.time()\n",
    "print(\"time needed to get data:\",(timer_end-timer_start)/60,\"Min\")\n",
    "print(\"number of tweets with successfull data :\", tsuccess)\n",
    "print(\"number of tweets with failed data :\", tfail)"
   ]
  },
  {
   "cell_type": "code",
   "execution_count": 9,
   "metadata": {},
   "outputs": [],
   "source": [
    "# let's store the data that we get to a txt file\n",
    "with open('tweets_json.txt', mode = 'w') as file:\n",
    "    json.dump(tweets_data, file)"
   ]
  },
  {
   "cell_type": "code",
   "execution_count": 10,
   "metadata": {},
   "outputs": [
    {
     "data": {
      "text/html": [
       "<div>\n",
       "<style scoped>\n",
       "    .dataframe tbody tr th:only-of-type {\n",
       "        vertical-align: middle;\n",
       "    }\n",
       "\n",
       "    .dataframe tbody tr th {\n",
       "        vertical-align: top;\n",
       "    }\n",
       "\n",
       "    .dataframe thead th {\n",
       "        text-align: right;\n",
       "    }\n",
       "</style>\n",
       "<table border=\"1\" class=\"dataframe\">\n",
       "  <thead>\n",
       "    <tr style=\"text-align: right;\">\n",
       "      <th></th>\n",
       "      <th>tweet_id</th>\n",
       "      <th>favorite_count</th>\n",
       "      <th>retweet_count</th>\n",
       "    </tr>\n",
       "  </thead>\n",
       "  <tbody>\n",
       "    <tr>\n",
       "      <th>1235</th>\n",
       "      <td>709901256215666688</td>\n",
       "      <td>597</td>\n",
       "      <td>90</td>\n",
       "    </tr>\n",
       "    <tr>\n",
       "      <th>1678</th>\n",
       "      <td>680798457301471234</td>\n",
       "      <td>2543</td>\n",
       "      <td>926</td>\n",
       "    </tr>\n",
       "    <tr>\n",
       "      <th>118</th>\n",
       "      <td>868639477480148993</td>\n",
       "      <td>0</td>\n",
       "      <td>1711</td>\n",
       "    </tr>\n",
       "    <tr>\n",
       "      <th>1863</th>\n",
       "      <td>674743008475090944</td>\n",
       "      <td>1230</td>\n",
       "      <td>454</td>\n",
       "    </tr>\n",
       "    <tr>\n",
       "      <th>1188</th>\n",
       "      <td>714957620017307648</td>\n",
       "      <td>3719</td>\n",
       "      <td>1263</td>\n",
       "    </tr>\n",
       "  </tbody>\n",
       "</table>\n",
       "</div>"
      ],
      "text/plain": [
       "                tweet_id  favorite_count  retweet_count\n",
       "1235  709901256215666688             597             90\n",
       "1678  680798457301471234            2543            926\n",
       "118   868639477480148993               0           1711\n",
       "1863  674743008475090944            1230            454\n",
       "1188  714957620017307648            3719           1263"
      ]
     },
     "execution_count": 10,
     "metadata": {},
     "output_type": "execute_result"
    }
   ],
   "source": [
    "# affect the data to a third new dataframe,\n",
    "# index them by the tweets ids from the list 'tweets_success'\n",
    "# and let's keep only the columns that we want to analyze\n",
    "df_tweets = pd.read_json('tweets_json.txt')\n",
    "df_tweets['tweet_id']= tweets_success\n",
    "df_tweets = df_tweets[['tweet_id','favorite_count','retweet_count']]\n",
    "df_tweets.sample(5)"
   ]
  },
  {
   "cell_type": "code",
   "execution_count": 19,
   "metadata": {},
   "outputs": [],
   "source": [
    "# Save the data to a csv file\n",
    "df_tweets.to_csv('tweets_api.csv',index=False)"
   ]
  },
  {
   "cell_type": "code",
   "execution_count": 5,
   "metadata": {},
   "outputs": [
    {
     "data": {
      "text/html": [
       "<div>\n",
       "<style scoped>\n",
       "    .dataframe tbody tr th:only-of-type {\n",
       "        vertical-align: middle;\n",
       "    }\n",
       "\n",
       "    .dataframe tbody tr th {\n",
       "        vertical-align: top;\n",
       "    }\n",
       "\n",
       "    .dataframe thead th {\n",
       "        text-align: right;\n",
       "    }\n",
       "</style>\n",
       "<table border=\"1\" class=\"dataframe\">\n",
       "  <thead>\n",
       "    <tr style=\"text-align: right;\">\n",
       "      <th></th>\n",
       "      <th>tweet_id</th>\n",
       "      <th>favorite_count</th>\n",
       "      <th>retweet_count</th>\n",
       "    </tr>\n",
       "  </thead>\n",
       "  <tbody>\n",
       "    <tr>\n",
       "      <th>0</th>\n",
       "      <td>892420643555336193</td>\n",
       "      <td>32867</td>\n",
       "      <td>6876</td>\n",
       "    </tr>\n",
       "    <tr>\n",
       "      <th>1</th>\n",
       "      <td>892177421306343426</td>\n",
       "      <td>28394</td>\n",
       "      <td>5178</td>\n",
       "    </tr>\n",
       "    <tr>\n",
       "      <th>2</th>\n",
       "      <td>891815181378084864</td>\n",
       "      <td>21341</td>\n",
       "      <td>3420</td>\n",
       "    </tr>\n",
       "    <tr>\n",
       "      <th>3</th>\n",
       "      <td>891689557279858688</td>\n",
       "      <td>35826</td>\n",
       "      <td>7083</td>\n",
       "    </tr>\n",
       "    <tr>\n",
       "      <th>4</th>\n",
       "      <td>891327558926688256</td>\n",
       "      <td>34265</td>\n",
       "      <td>7589</td>\n",
       "    </tr>\n",
       "  </tbody>\n",
       "</table>\n",
       "</div>"
      ],
      "text/plain": [
       "             tweet_id  favorite_count  retweet_count\n",
       "0  892420643555336193           32867           6876\n",
       "1  892177421306343426           28394           5178\n",
       "2  891815181378084864           21341           3420\n",
       "3  891689557279858688           35826           7083\n",
       "4  891327558926688256           34265           7589"
      ]
     },
     "execution_count": 5,
     "metadata": {},
     "output_type": "execute_result"
    }
   ],
   "source": [
    "# reload the data from the csv file to avoid using the api again\n",
    "df_tweets = pd.read_csv('tweets_api.csv')\n",
    "df_tweets.head()"
   ]
  },
  {
   "cell_type": "markdown",
   "metadata": {
    "extensions": {
     "jupyter_dashboards": {
      "version": 1,
      "views": {
       "grid_default": {
        "col": 4,
        "height": 4,
        "hidden": false,
        "row": 28,
        "width": 4
       },
       "report_default": {
        "hidden": false
       }
      }
     }
    }
   },
   "source": [
    "## Assessing Data\n",
    "In this section, detect and document at least **eight (8) quality issues and two (2) tidiness issue**. You must use **both** visual assessment\n",
    "programmatic assessement to assess the data.\n",
    "\n",
    "**Note:** pay attention to the following key points when you access the data.\n",
    "\n",
    "* You only want original ratings (no retweets) that have images. Though there are 5000+ tweets in the dataset, not all are dog ratings and some are retweets.\n",
    "* Assessing and cleaning the entire dataset completely would require a lot of time, and is not necessary to practice and demonstrate your skills in data wrangling. Therefore, the requirements of this project are only to assess and clean at least 8 quality issues and at least 2 tidiness issues in this dataset.\n",
    "* The fact that the rating numerators are greater than the denominators does not need to be cleaned. This [unique rating system](http://knowyourmeme.com/memes/theyre-good-dogs-brent) is a big part of the popularity of WeRateDogs.\n",
    "* You do not need to gather the tweets beyond August 1st, 2017. You can, but note that you won't be able to gather the image predictions for these tweets since you don't have access to the algorithm used.\n",
    "\n"
   ]
  },
  {
   "cell_type": "code",
   "execution_count": 23,
   "metadata": {},
   "outputs": [
    {
     "data": {
      "text/html": [
       "<div>\n",
       "<style scoped>\n",
       "    .dataframe tbody tr th:only-of-type {\n",
       "        vertical-align: middle;\n",
       "    }\n",
       "\n",
       "    .dataframe tbody tr th {\n",
       "        vertical-align: top;\n",
       "    }\n",
       "\n",
       "    .dataframe thead th {\n",
       "        text-align: right;\n",
       "    }\n",
       "</style>\n",
       "<table border=\"1\" class=\"dataframe\">\n",
       "  <thead>\n",
       "    <tr style=\"text-align: right;\">\n",
       "      <th></th>\n",
       "      <th>tweet_id</th>\n",
       "      <th>in_reply_to_status_id</th>\n",
       "      <th>in_reply_to_user_id</th>\n",
       "      <th>timestamp</th>\n",
       "      <th>source</th>\n",
       "      <th>text</th>\n",
       "      <th>retweeted_status_id</th>\n",
       "      <th>retweeted_status_user_id</th>\n",
       "      <th>retweeted_status_timestamp</th>\n",
       "      <th>expanded_urls</th>\n",
       "      <th>rating_numerator</th>\n",
       "      <th>rating_denominator</th>\n",
       "      <th>name</th>\n",
       "      <th>doggo</th>\n",
       "      <th>floofer</th>\n",
       "      <th>pupper</th>\n",
       "      <th>puppo</th>\n",
       "    </tr>\n",
       "  </thead>\n",
       "  <tbody>\n",
       "    <tr>\n",
       "      <th>1707</th>\n",
       "      <td>680801747103793152</td>\n",
       "      <td>NaN</td>\n",
       "      <td>NaN</td>\n",
       "      <td>2015-12-26 17:25:59 +0000</td>\n",
       "      <td>&lt;a href=\"http://twitter.com/download/iphone\" r...</td>\n",
       "      <td>Great picture here. Dog on the right panicked ...</td>\n",
       "      <td>NaN</td>\n",
       "      <td>NaN</td>\n",
       "      <td>NaN</td>\n",
       "      <td>https://twitter.com/dog_rates/status/680801747...</td>\n",
       "      <td>10</td>\n",
       "      <td>10</td>\n",
       "      <td>None</td>\n",
       "      <td>None</td>\n",
       "      <td>None</td>\n",
       "      <td>None</td>\n",
       "      <td>None</td>\n",
       "    </tr>\n",
       "    <tr>\n",
       "      <th>2087</th>\n",
       "      <td>670797304698376195</td>\n",
       "      <td>NaN</td>\n",
       "      <td>NaN</td>\n",
       "      <td>2015-11-29 02:51:54 +0000</td>\n",
       "      <td>&lt;a href=\"http://twitter.com/download/iphone\" r...</td>\n",
       "      <td>This is Trigger. He was minding his own busine...</td>\n",
       "      <td>NaN</td>\n",
       "      <td>NaN</td>\n",
       "      <td>NaN</td>\n",
       "      <td>https://twitter.com/dog_rates/status/670797304...</td>\n",
       "      <td>11</td>\n",
       "      <td>10</td>\n",
       "      <td>Trigger</td>\n",
       "      <td>None</td>\n",
       "      <td>None</td>\n",
       "      <td>None</td>\n",
       "      <td>None</td>\n",
       "    </tr>\n",
       "    <tr>\n",
       "      <th>1793</th>\n",
       "      <td>677331501395156992</td>\n",
       "      <td>NaN</td>\n",
       "      <td>NaN</td>\n",
       "      <td>2015-12-17 03:36:28 +0000</td>\n",
       "      <td>&lt;a href=\"http://twitter.com/download/iphone\" r...</td>\n",
       "      <td>Meet Humphrey. He's a Northern Polyp Viagra. O...</td>\n",
       "      <td>NaN</td>\n",
       "      <td>NaN</td>\n",
       "      <td>NaN</td>\n",
       "      <td>https://twitter.com/dog_rates/status/677331501...</td>\n",
       "      <td>9</td>\n",
       "      <td>10</td>\n",
       "      <td>Humphrey</td>\n",
       "      <td>None</td>\n",
       "      <td>None</td>\n",
       "      <td>None</td>\n",
       "      <td>None</td>\n",
       "    </tr>\n",
       "    <tr>\n",
       "      <th>928</th>\n",
       "      <td>754747087846248448</td>\n",
       "      <td>NaN</td>\n",
       "      <td>NaN</td>\n",
       "      <td>2016-07-17 18:38:22 +0000</td>\n",
       "      <td>&lt;a href=\"http://twitter.com/download/iphone\" r...</td>\n",
       "      <td>This is Keith. He's pursuing a more 2D lifesty...</td>\n",
       "      <td>NaN</td>\n",
       "      <td>NaN</td>\n",
       "      <td>NaN</td>\n",
       "      <td>https://twitter.com/dog_rates/status/754747087...</td>\n",
       "      <td>12</td>\n",
       "      <td>10</td>\n",
       "      <td>Keith</td>\n",
       "      <td>None</td>\n",
       "      <td>None</td>\n",
       "      <td>None</td>\n",
       "      <td>None</td>\n",
       "    </tr>\n",
       "    <tr>\n",
       "      <th>199</th>\n",
       "      <td>854120357044912130</td>\n",
       "      <td>NaN</td>\n",
       "      <td>NaN</td>\n",
       "      <td>2017-04-17 23:52:16 +0000</td>\n",
       "      <td>&lt;a href=\"http://twitter.com/download/iphone\" r...</td>\n",
       "      <td>Sometimes you guys remind me just how impactfu...</td>\n",
       "      <td>NaN</td>\n",
       "      <td>NaN</td>\n",
       "      <td>NaN</td>\n",
       "      <td>https://twitter.com/dog_rates/status/854120357...</td>\n",
       "      <td>14</td>\n",
       "      <td>10</td>\n",
       "      <td>None</td>\n",
       "      <td>None</td>\n",
       "      <td>None</td>\n",
       "      <td>pupper</td>\n",
       "      <td>None</td>\n",
       "    </tr>\n",
       "    <tr>\n",
       "      <th>933</th>\n",
       "      <td>753655901052166144</td>\n",
       "      <td>NaN</td>\n",
       "      <td>NaN</td>\n",
       "      <td>2016-07-14 18:22:23 +0000</td>\n",
       "      <td>&lt;a href=\"http://twitter.com/download/iphone\" r...</td>\n",
       "      <td>\"The dogtor is in hahahaha no but seriously I'...</td>\n",
       "      <td>NaN</td>\n",
       "      <td>NaN</td>\n",
       "      <td>NaN</td>\n",
       "      <td>https://twitter.com/dog_rates/status/753655901...</td>\n",
       "      <td>10</td>\n",
       "      <td>10</td>\n",
       "      <td>None</td>\n",
       "      <td>None</td>\n",
       "      <td>None</td>\n",
       "      <td>None</td>\n",
       "      <td>None</td>\n",
       "    </tr>\n",
       "    <tr>\n",
       "      <th>2084</th>\n",
       "      <td>670807719151067136</td>\n",
       "      <td>NaN</td>\n",
       "      <td>NaN</td>\n",
       "      <td>2015-11-29 03:33:17 +0000</td>\n",
       "      <td>&lt;a href=\"http://twitter.com/download/iphone\" r...</td>\n",
       "      <td>Say hello to Andy. He can balance on one foot,...</td>\n",
       "      <td>NaN</td>\n",
       "      <td>NaN</td>\n",
       "      <td>NaN</td>\n",
       "      <td>https://twitter.com/dog_rates/status/670807719...</td>\n",
       "      <td>11</td>\n",
       "      <td>10</td>\n",
       "      <td>Andy</td>\n",
       "      <td>None</td>\n",
       "      <td>None</td>\n",
       "      <td>None</td>\n",
       "      <td>None</td>\n",
       "    </tr>\n",
       "    <tr>\n",
       "      <th>2323</th>\n",
       "      <td>666428276349472768</td>\n",
       "      <td>NaN</td>\n",
       "      <td>NaN</td>\n",
       "      <td>2015-11-17 01:30:57 +0000</td>\n",
       "      <td>&lt;a href=\"http://twitter.com/download/iphone\" r...</td>\n",
       "      <td>Here we have an Austrian Pulitzer. Collectors ...</td>\n",
       "      <td>NaN</td>\n",
       "      <td>NaN</td>\n",
       "      <td>NaN</td>\n",
       "      <td>https://twitter.com/dog_rates/status/666428276...</td>\n",
       "      <td>7</td>\n",
       "      <td>10</td>\n",
       "      <td>None</td>\n",
       "      <td>None</td>\n",
       "      <td>None</td>\n",
       "      <td>None</td>\n",
       "      <td>None</td>\n",
       "    </tr>\n",
       "  </tbody>\n",
       "</table>\n",
       "</div>"
      ],
      "text/plain": [
       "                tweet_id  in_reply_to_status_id  in_reply_to_user_id  \\\n",
       "1707  680801747103793152                    NaN                  NaN   \n",
       "2087  670797304698376195                    NaN                  NaN   \n",
       "1793  677331501395156992                    NaN                  NaN   \n",
       "928   754747087846248448                    NaN                  NaN   \n",
       "199   854120357044912130                    NaN                  NaN   \n",
       "933   753655901052166144                    NaN                  NaN   \n",
       "2084  670807719151067136                    NaN                  NaN   \n",
       "2323  666428276349472768                    NaN                  NaN   \n",
       "\n",
       "                      timestamp  \\\n",
       "1707  2015-12-26 17:25:59 +0000   \n",
       "2087  2015-11-29 02:51:54 +0000   \n",
       "1793  2015-12-17 03:36:28 +0000   \n",
       "928   2016-07-17 18:38:22 +0000   \n",
       "199   2017-04-17 23:52:16 +0000   \n",
       "933   2016-07-14 18:22:23 +0000   \n",
       "2084  2015-11-29 03:33:17 +0000   \n",
       "2323  2015-11-17 01:30:57 +0000   \n",
       "\n",
       "                                                 source  \\\n",
       "1707  <a href=\"http://twitter.com/download/iphone\" r...   \n",
       "2087  <a href=\"http://twitter.com/download/iphone\" r...   \n",
       "1793  <a href=\"http://twitter.com/download/iphone\" r...   \n",
       "928   <a href=\"http://twitter.com/download/iphone\" r...   \n",
       "199   <a href=\"http://twitter.com/download/iphone\" r...   \n",
       "933   <a href=\"http://twitter.com/download/iphone\" r...   \n",
       "2084  <a href=\"http://twitter.com/download/iphone\" r...   \n",
       "2323  <a href=\"http://twitter.com/download/iphone\" r...   \n",
       "\n",
       "                                                   text  retweeted_status_id  \\\n",
       "1707  Great picture here. Dog on the right panicked ...                  NaN   \n",
       "2087  This is Trigger. He was minding his own busine...                  NaN   \n",
       "1793  Meet Humphrey. He's a Northern Polyp Viagra. O...                  NaN   \n",
       "928   This is Keith. He's pursuing a more 2D lifesty...                  NaN   \n",
       "199   Sometimes you guys remind me just how impactfu...                  NaN   \n",
       "933   \"The dogtor is in hahahaha no but seriously I'...                  NaN   \n",
       "2084  Say hello to Andy. He can balance on one foot,...                  NaN   \n",
       "2323  Here we have an Austrian Pulitzer. Collectors ...                  NaN   \n",
       "\n",
       "      retweeted_status_user_id retweeted_status_timestamp  \\\n",
       "1707                       NaN                        NaN   \n",
       "2087                       NaN                        NaN   \n",
       "1793                       NaN                        NaN   \n",
       "928                        NaN                        NaN   \n",
       "199                        NaN                        NaN   \n",
       "933                        NaN                        NaN   \n",
       "2084                       NaN                        NaN   \n",
       "2323                       NaN                        NaN   \n",
       "\n",
       "                                          expanded_urls  rating_numerator  \\\n",
       "1707  https://twitter.com/dog_rates/status/680801747...                10   \n",
       "2087  https://twitter.com/dog_rates/status/670797304...                11   \n",
       "1793  https://twitter.com/dog_rates/status/677331501...                 9   \n",
       "928   https://twitter.com/dog_rates/status/754747087...                12   \n",
       "199   https://twitter.com/dog_rates/status/854120357...                14   \n",
       "933   https://twitter.com/dog_rates/status/753655901...                10   \n",
       "2084  https://twitter.com/dog_rates/status/670807719...                11   \n",
       "2323  https://twitter.com/dog_rates/status/666428276...                 7   \n",
       "\n",
       "      rating_denominator      name doggo floofer  pupper puppo  \n",
       "1707                  10      None  None    None    None  None  \n",
       "2087                  10   Trigger  None    None    None  None  \n",
       "1793                  10  Humphrey  None    None    None  None  \n",
       "928                   10     Keith  None    None    None  None  \n",
       "199                   10      None  None    None  pupper  None  \n",
       "933                   10      None  None    None    None  None  \n",
       "2084                  10      Andy  None    None    None  None  \n",
       "2323                  10      None  None    None    None  None  "
      ]
     },
     "execution_count": 23,
     "metadata": {},
     "output_type": "execute_result"
    }
   ],
   "source": [
    "df_tarchive.sample(8)"
   ]
  },
  {
   "cell_type": "code",
   "execution_count": 24,
   "metadata": {
    "scrolled": true
   },
   "outputs": [
    {
     "name": "stdout",
     "output_type": "stream",
     "text": [
      "<class 'pandas.core.frame.DataFrame'>\n",
      "RangeIndex: 2356 entries, 0 to 2355\n",
      "Data columns (total 17 columns):\n",
      "tweet_id                      2356 non-null int64\n",
      "in_reply_to_status_id         78 non-null float64\n",
      "in_reply_to_user_id           78 non-null float64\n",
      "timestamp                     2356 non-null object\n",
      "source                        2356 non-null object\n",
      "text                          2356 non-null object\n",
      "retweeted_status_id           181 non-null float64\n",
      "retweeted_status_user_id      181 non-null float64\n",
      "retweeted_status_timestamp    181 non-null object\n",
      "expanded_urls                 2297 non-null object\n",
      "rating_numerator              2356 non-null int64\n",
      "rating_denominator            2356 non-null int64\n",
      "name                          2356 non-null object\n",
      "doggo                         2356 non-null object\n",
      "floofer                       2356 non-null object\n",
      "pupper                        2356 non-null object\n",
      "puppo                         2356 non-null object\n",
      "dtypes: float64(4), int64(3), object(10)\n",
      "memory usage: 313.0+ KB\n"
     ]
    }
   ],
   "source": [
    "df_tarchive.info()"
   ]
  },
  {
   "cell_type": "code",
   "execution_count": 41,
   "metadata": {},
   "outputs": [
    {
     "data": {
      "text/html": [
       "<div>\n",
       "<style scoped>\n",
       "    .dataframe tbody tr th:only-of-type {\n",
       "        vertical-align: middle;\n",
       "    }\n",
       "\n",
       "    .dataframe tbody tr th {\n",
       "        vertical-align: top;\n",
       "    }\n",
       "\n",
       "    .dataframe thead th {\n",
       "        text-align: right;\n",
       "    }\n",
       "</style>\n",
       "<table border=\"1\" class=\"dataframe\">\n",
       "  <thead>\n",
       "    <tr style=\"text-align: right;\">\n",
       "      <th></th>\n",
       "      <th>tweet_id</th>\n",
       "      <th>in_reply_to_status_id</th>\n",
       "      <th>in_reply_to_user_id</th>\n",
       "      <th>retweeted_status_id</th>\n",
       "      <th>retweeted_status_user_id</th>\n",
       "      <th>rating_numerator</th>\n",
       "      <th>rating_denominator</th>\n",
       "    </tr>\n",
       "  </thead>\n",
       "  <tbody>\n",
       "    <tr>\n",
       "      <th>count</th>\n",
       "      <td>2.356000e+03</td>\n",
       "      <td>7.800000e+01</td>\n",
       "      <td>7.800000e+01</td>\n",
       "      <td>1.810000e+02</td>\n",
       "      <td>1.810000e+02</td>\n",
       "      <td>2356.000000</td>\n",
       "      <td>2356.000000</td>\n",
       "    </tr>\n",
       "    <tr>\n",
       "      <th>mean</th>\n",
       "      <td>7.427716e+17</td>\n",
       "      <td>7.455079e+17</td>\n",
       "      <td>2.014171e+16</td>\n",
       "      <td>7.720400e+17</td>\n",
       "      <td>1.241698e+16</td>\n",
       "      <td>13.126486</td>\n",
       "      <td>10.455433</td>\n",
       "    </tr>\n",
       "    <tr>\n",
       "      <th>std</th>\n",
       "      <td>6.856705e+16</td>\n",
       "      <td>7.582492e+16</td>\n",
       "      <td>1.252797e+17</td>\n",
       "      <td>6.236928e+16</td>\n",
       "      <td>9.599254e+16</td>\n",
       "      <td>45.876648</td>\n",
       "      <td>6.745237</td>\n",
       "    </tr>\n",
       "    <tr>\n",
       "      <th>min</th>\n",
       "      <td>6.660209e+17</td>\n",
       "      <td>6.658147e+17</td>\n",
       "      <td>1.185634e+07</td>\n",
       "      <td>6.661041e+17</td>\n",
       "      <td>7.832140e+05</td>\n",
       "      <td>0.000000</td>\n",
       "      <td>0.000000</td>\n",
       "    </tr>\n",
       "    <tr>\n",
       "      <th>25%</th>\n",
       "      <td>6.783989e+17</td>\n",
       "      <td>6.757419e+17</td>\n",
       "      <td>3.086374e+08</td>\n",
       "      <td>7.186315e+17</td>\n",
       "      <td>4.196984e+09</td>\n",
       "      <td>10.000000</td>\n",
       "      <td>10.000000</td>\n",
       "    </tr>\n",
       "    <tr>\n",
       "      <th>50%</th>\n",
       "      <td>7.196279e+17</td>\n",
       "      <td>7.038708e+17</td>\n",
       "      <td>4.196984e+09</td>\n",
       "      <td>7.804657e+17</td>\n",
       "      <td>4.196984e+09</td>\n",
       "      <td>11.000000</td>\n",
       "      <td>10.000000</td>\n",
       "    </tr>\n",
       "    <tr>\n",
       "      <th>75%</th>\n",
       "      <td>7.993373e+17</td>\n",
       "      <td>8.257804e+17</td>\n",
       "      <td>4.196984e+09</td>\n",
       "      <td>8.203146e+17</td>\n",
       "      <td>4.196984e+09</td>\n",
       "      <td>12.000000</td>\n",
       "      <td>10.000000</td>\n",
       "    </tr>\n",
       "    <tr>\n",
       "      <th>max</th>\n",
       "      <td>8.924206e+17</td>\n",
       "      <td>8.862664e+17</td>\n",
       "      <td>8.405479e+17</td>\n",
       "      <td>8.874740e+17</td>\n",
       "      <td>7.874618e+17</td>\n",
       "      <td>1776.000000</td>\n",
       "      <td>170.000000</td>\n",
       "    </tr>\n",
       "  </tbody>\n",
       "</table>\n",
       "</div>"
      ],
      "text/plain": [
       "           tweet_id  in_reply_to_status_id  in_reply_to_user_id  \\\n",
       "count  2.356000e+03           7.800000e+01         7.800000e+01   \n",
       "mean   7.427716e+17           7.455079e+17         2.014171e+16   \n",
       "std    6.856705e+16           7.582492e+16         1.252797e+17   \n",
       "min    6.660209e+17           6.658147e+17         1.185634e+07   \n",
       "25%    6.783989e+17           6.757419e+17         3.086374e+08   \n",
       "50%    7.196279e+17           7.038708e+17         4.196984e+09   \n",
       "75%    7.993373e+17           8.257804e+17         4.196984e+09   \n",
       "max    8.924206e+17           8.862664e+17         8.405479e+17   \n",
       "\n",
       "       retweeted_status_id  retweeted_status_user_id  rating_numerator  \\\n",
       "count         1.810000e+02              1.810000e+02       2356.000000   \n",
       "mean          7.720400e+17              1.241698e+16         13.126486   \n",
       "std           6.236928e+16              9.599254e+16         45.876648   \n",
       "min           6.661041e+17              7.832140e+05          0.000000   \n",
       "25%           7.186315e+17              4.196984e+09         10.000000   \n",
       "50%           7.804657e+17              4.196984e+09         11.000000   \n",
       "75%           8.203146e+17              4.196984e+09         12.000000   \n",
       "max           8.874740e+17              7.874618e+17       1776.000000   \n",
       "\n",
       "       rating_denominator  \n",
       "count         2356.000000  \n",
       "mean            10.455433  \n",
       "std              6.745237  \n",
       "min              0.000000  \n",
       "25%             10.000000  \n",
       "50%             10.000000  \n",
       "75%             10.000000  \n",
       "max            170.000000  "
      ]
     },
     "execution_count": 41,
     "metadata": {},
     "output_type": "execute_result"
    }
   ],
   "source": [
    "df_tarchive.describe()"
   ]
  },
  {
   "cell_type": "code",
   "execution_count": 32,
   "metadata": {},
   "outputs": [
    {
     "data": {
      "text/html": [
       "<div>\n",
       "<style scoped>\n",
       "    .dataframe tbody tr th:only-of-type {\n",
       "        vertical-align: middle;\n",
       "    }\n",
       "\n",
       "    .dataframe tbody tr th {\n",
       "        vertical-align: top;\n",
       "    }\n",
       "\n",
       "    .dataframe thead th {\n",
       "        text-align: right;\n",
       "    }\n",
       "</style>\n",
       "<table border=\"1\" class=\"dataframe\">\n",
       "  <thead>\n",
       "    <tr style=\"text-align: right;\">\n",
       "      <th></th>\n",
       "      <th>doggo</th>\n",
       "      <th>floofer</th>\n",
       "      <th>pupper</th>\n",
       "      <th>puppo</th>\n",
       "    </tr>\n",
       "  </thead>\n",
       "  <tbody>\n",
       "    <tr>\n",
       "      <th>None</th>\n",
       "      <td>2259.0</td>\n",
       "      <td>2346.0</td>\n",
       "      <td>2099.0</td>\n",
       "      <td>2326.0</td>\n",
       "    </tr>\n",
       "    <tr>\n",
       "      <th>doggo</th>\n",
       "      <td>97.0</td>\n",
       "      <td>NaN</td>\n",
       "      <td>NaN</td>\n",
       "      <td>NaN</td>\n",
       "    </tr>\n",
       "    <tr>\n",
       "      <th>floofer</th>\n",
       "      <td>NaN</td>\n",
       "      <td>10.0</td>\n",
       "      <td>NaN</td>\n",
       "      <td>NaN</td>\n",
       "    </tr>\n",
       "    <tr>\n",
       "      <th>pupper</th>\n",
       "      <td>NaN</td>\n",
       "      <td>NaN</td>\n",
       "      <td>257.0</td>\n",
       "      <td>NaN</td>\n",
       "    </tr>\n",
       "    <tr>\n",
       "      <th>puppo</th>\n",
       "      <td>NaN</td>\n",
       "      <td>NaN</td>\n",
       "      <td>NaN</td>\n",
       "      <td>30.0</td>\n",
       "    </tr>\n",
       "  </tbody>\n",
       "</table>\n",
       "</div>"
      ],
      "text/plain": [
       "          doggo  floofer  pupper   puppo\n",
       "None     2259.0   2346.0  2099.0  2326.0\n",
       "doggo      97.0      NaN     NaN     NaN\n",
       "floofer     NaN     10.0     NaN     NaN\n",
       "pupper      NaN      NaN   257.0     NaN\n",
       "puppo       NaN      NaN     NaN    30.0"
      ]
     },
     "execution_count": 32,
     "metadata": {},
     "output_type": "execute_result"
    }
   ],
   "source": [
    "df_tarchive[['doggo', 'floofer', 'pupper', 'puppo']].apply(pd.value_counts)"
   ]
  },
  {
   "cell_type": "code",
   "execution_count": 52,
   "metadata": {},
   "outputs": [
    {
     "data": {
      "text/plain": [
       "59"
      ]
     },
     "execution_count": 52,
     "metadata": {},
     "output_type": "execute_result"
    }
   ],
   "source": [
    "# count the null values in the 'expanded_urls' column\n",
    "df_tarchive['expanded_urls'].isna().sum()"
   ]
  },
  {
   "cell_type": "code",
   "execution_count": 42,
   "metadata": {},
   "outputs": [
    {
     "data": {
      "text/plain": [
       "10     2333\n",
       "11        3\n",
       "50        3\n",
       "80        2\n",
       "20        2\n",
       "2         1\n",
       "16        1\n",
       "40        1\n",
       "70        1\n",
       "15        1\n",
       "90        1\n",
       "110       1\n",
       "120       1\n",
       "130       1\n",
       "150       1\n",
       "170       1\n",
       "7         1\n",
       "0         1\n",
       "Name: rating_denominator, dtype: int64"
      ]
     },
     "execution_count": 42,
     "metadata": {},
     "output_type": "execute_result"
    }
   ],
   "source": [
    "df_tarchive['rating_denominator'].value_counts()"
   ]
  },
  {
   "cell_type": "code",
   "execution_count": 35,
   "metadata": {},
   "outputs": [
    {
     "data": {
      "text/plain": [
       "23"
      ]
     },
     "execution_count": 35,
     "metadata": {},
     "output_type": "execute_result"
    }
   ],
   "source": [
    "# trying to know the number of denominator diffrent of 10\n",
    "df_tarchive[df_tarchive['rating_denominator']!=10].count()[0]"
   ]
  },
  {
   "cell_type": "code",
   "execution_count": 43,
   "metadata": {},
   "outputs": [
    {
     "data": {
      "text/plain": [
       "12      558\n",
       "11      464\n",
       "10      461\n",
       "13      351\n",
       "9       158\n",
       "8       102\n",
       "7        55\n",
       "14       54\n",
       "5        37\n",
       "6        32\n",
       "3        19\n",
       "4        17\n",
       "1         9\n",
       "2         9\n",
       "420       2\n",
       "0         2\n",
       "15        2\n",
       "75        2\n",
       "80        1\n",
       "20        1\n",
       "24        1\n",
       "26        1\n",
       "44        1\n",
       "50        1\n",
       "60        1\n",
       "165       1\n",
       "84        1\n",
       "88        1\n",
       "144       1\n",
       "182       1\n",
       "143       1\n",
       "666       1\n",
       "960       1\n",
       "1776      1\n",
       "17        1\n",
       "27        1\n",
       "45        1\n",
       "99        1\n",
       "121       1\n",
       "204       1\n",
       "Name: rating_numerator, dtype: int64"
      ]
     },
     "execution_count": 43,
     "metadata": {},
     "output_type": "execute_result"
    }
   ],
   "source": [
    "df_tarchive['rating_numerator'].value_counts()"
   ]
  },
  {
   "cell_type": "code",
   "execution_count": 44,
   "metadata": {},
   "outputs": [
    {
     "data": {
      "text/plain": [
       "440"
      ]
     },
     "execution_count": 44,
     "metadata": {},
     "output_type": "execute_result"
    }
   ],
   "source": [
    "# trying to know the number of denominator inferior of 10 (ilogic in our case)\n",
    "df_tarchive[df_tarchive['rating_numerator']<10].count()[0]"
   ]
  },
  {
   "cell_type": "code",
   "execution_count": 38,
   "metadata": {},
   "outputs": [
    {
     "data": {
      "text/plain": [
       "615     2016-11-10 04:01:37 +0000\n",
       "195     2017-04-20 19:16:59 +0000\n",
       "62      2017-06-28 16:09:20 +0000\n",
       "1247    2016-03-20 20:36:28 +0000\n",
       "1993    2015-12-04 02:51:33 +0000\n",
       "2184    2015-11-24 03:03:06 +0000\n",
       "Name: timestamp, dtype: object"
      ]
     },
     "execution_count": 38,
     "metadata": {},
     "output_type": "execute_result"
    }
   ],
   "source": [
    "df_tarchive['timestamp'].sample(6)"
   ]
  },
  {
   "cell_type": "code",
   "execution_count": 40,
   "metadata": {},
   "outputs": [
    {
     "data": {
      "text/plain": [
       "None       745\n",
       "a           55\n",
       "Charlie     12\n",
       "Lucy        11\n",
       "Cooper      11\n",
       "Oliver      11\n",
       "Tucker      10\n",
       "Lola        10\n",
       "Penny       10\n",
       "Bo           9\n",
       "Winston      9\n",
       "the          8\n",
       "Sadie        8\n",
       "Buddy        7\n",
       "an           7\n",
       "Daisy        7\n",
       "Bailey       7\n",
       "Toby         7\n",
       "Stanley      6\n",
       "Jax          6\n",
       "Oscar        6\n",
       "Milo         6\n",
       "Dave         6\n",
       "Scout        6\n",
       "Leo          6\n",
       "Jack         6\n",
       "Rusty        6\n",
       "Bella        6\n",
       "Koda         6\n",
       "Larry        5\n",
       "          ... \n",
       "Jimbo        1\n",
       "Binky        1\n",
       "Stu          1\n",
       "Dante        1\n",
       "Jockson      1\n",
       "Angel        1\n",
       "Rodney       1\n",
       "Ruffles      1\n",
       "Trip         1\n",
       "Robin        1\n",
       "Hazel        1\n",
       "Ronduh       1\n",
       "Willow       1\n",
       "Donny        1\n",
       "Liam         1\n",
       "Eleanor      1\n",
       "Cal          1\n",
       "Evy          1\n",
       "Halo         1\n",
       "Arnold       1\n",
       "Mosby        1\n",
       "Jazzy        1\n",
       "Darrel       1\n",
       "Daniel       1\n",
       "Bradley      1\n",
       "Ember        1\n",
       "Cecil        1\n",
       "Noah         1\n",
       "Ulysses      1\n",
       "Henry        1\n",
       "Name: name, Length: 957, dtype: int64"
      ]
     },
     "execution_count": 40,
     "metadata": {},
     "output_type": "execute_result"
    }
   ],
   "source": [
    "df_tarchive['name'].value_counts()"
   ]
  },
  {
   "cell_type": "code",
   "execution_count": 47,
   "metadata": {
    "scrolled": true
   },
   "outputs": [
    {
     "data": {
      "text/html": [
       "<div>\n",
       "<style scoped>\n",
       "    .dataframe tbody tr th:only-of-type {\n",
       "        vertical-align: middle;\n",
       "    }\n",
       "\n",
       "    .dataframe tbody tr th {\n",
       "        vertical-align: top;\n",
       "    }\n",
       "\n",
       "    .dataframe thead th {\n",
       "        text-align: right;\n",
       "    }\n",
       "</style>\n",
       "<table border=\"1\" class=\"dataframe\">\n",
       "  <thead>\n",
       "    <tr style=\"text-align: right;\">\n",
       "      <th></th>\n",
       "      <th>tweet_id</th>\n",
       "      <th>jpg_url</th>\n",
       "      <th>img_num</th>\n",
       "      <th>p1</th>\n",
       "      <th>p1_conf</th>\n",
       "      <th>p1_dog</th>\n",
       "      <th>p2</th>\n",
       "      <th>p2_conf</th>\n",
       "      <th>p2_dog</th>\n",
       "      <th>p3</th>\n",
       "      <th>p3_conf</th>\n",
       "      <th>p3_dog</th>\n",
       "    </tr>\n",
       "  </thead>\n",
       "  <tbody>\n",
       "    <tr>\n",
       "      <th>1079</th>\n",
       "      <td>717841801130979328</td>\n",
       "      <td>https://pbs.twimg.com/media/CfZJTphWAAAl5Ys.jpg</td>\n",
       "      <td>1</td>\n",
       "      <td>Brittany_spaniel</td>\n",
       "      <td>0.922876</td>\n",
       "      <td>True</td>\n",
       "      <td>English_springer</td>\n",
       "      <td>0.070113</td>\n",
       "      <td>True</td>\n",
       "      <td>bath_towel</td>\n",
       "      <td>0.002561</td>\n",
       "      <td>False</td>\n",
       "    </tr>\n",
       "    <tr>\n",
       "      <th>455</th>\n",
       "      <td>674767892831932416</td>\n",
       "      <td>https://pbs.twimg.com/media/CV1B0WkWwAEBKVx.jpg</td>\n",
       "      <td>1</td>\n",
       "      <td>shower_curtain</td>\n",
       "      <td>0.238855</td>\n",
       "      <td>False</td>\n",
       "      <td>sarong</td>\n",
       "      <td>0.092414</td>\n",
       "      <td>False</td>\n",
       "      <td>kimono</td>\n",
       "      <td>0.056412</td>\n",
       "      <td>False</td>\n",
       "    </tr>\n",
       "    <tr>\n",
       "      <th>1727</th>\n",
       "      <td>820446719150292993</td>\n",
       "      <td>https://pbs.twimg.com/media/CxqsX-8XUAAEvjD.jpg</td>\n",
       "      <td>3</td>\n",
       "      <td>golden_retriever</td>\n",
       "      <td>0.938048</td>\n",
       "      <td>True</td>\n",
       "      <td>kuvasz</td>\n",
       "      <td>0.025119</td>\n",
       "      <td>True</td>\n",
       "      <td>Labrador_retriever</td>\n",
       "      <td>0.022977</td>\n",
       "      <td>True</td>\n",
       "    </tr>\n",
       "    <tr>\n",
       "      <th>1385</th>\n",
       "      <td>766008592277377025</td>\n",
       "      <td>https://pbs.twimg.com/media/CqFouXOXYAAYpzG.jpg</td>\n",
       "      <td>1</td>\n",
       "      <td>Welsh_springer_spaniel</td>\n",
       "      <td>0.728153</td>\n",
       "      <td>True</td>\n",
       "      <td>basset</td>\n",
       "      <td>0.103842</td>\n",
       "      <td>True</td>\n",
       "      <td>Brittany_spaniel</td>\n",
       "      <td>0.062414</td>\n",
       "      <td>True</td>\n",
       "    </tr>\n",
       "    <tr>\n",
       "      <th>1972</th>\n",
       "      <td>869596645499047938</td>\n",
       "      <td>https://pbs.twimg.com/media/DBFtiYqWAAAsjj1.jpg</td>\n",
       "      <td>1</td>\n",
       "      <td>Chihuahua</td>\n",
       "      <td>0.955156</td>\n",
       "      <td>True</td>\n",
       "      <td>toy_terrier</td>\n",
       "      <td>0.008054</td>\n",
       "      <td>True</td>\n",
       "      <td>muzzle</td>\n",
       "      <td>0.006296</td>\n",
       "      <td>False</td>\n",
       "    </tr>\n",
       "    <tr>\n",
       "      <th>673</th>\n",
       "      <td>683357973142474752</td>\n",
       "      <td>https://pbs.twimg.com/media/CXvGbWeWMAcRbyJ.jpg</td>\n",
       "      <td>1</td>\n",
       "      <td>Pembroke</td>\n",
       "      <td>0.406509</td>\n",
       "      <td>True</td>\n",
       "      <td>Cardigan</td>\n",
       "      <td>0.154854</td>\n",
       "      <td>True</td>\n",
       "      <td>Siberian_husky</td>\n",
       "      <td>0.136366</td>\n",
       "      <td>True</td>\n",
       "    </tr>\n",
       "    <tr>\n",
       "      <th>2026</th>\n",
       "      <td>882045870035918850</td>\n",
       "      <td>https://pbs.twimg.com/media/DD2oCl2WAAEI_4a.jpg</td>\n",
       "      <td>1</td>\n",
       "      <td>web_site</td>\n",
       "      <td>0.949591</td>\n",
       "      <td>False</td>\n",
       "      <td>dhole</td>\n",
       "      <td>0.017326</td>\n",
       "      <td>False</td>\n",
       "      <td>golden_retriever</td>\n",
       "      <td>0.006941</td>\n",
       "      <td>True</td>\n",
       "    </tr>\n",
       "    <tr>\n",
       "      <th>1826</th>\n",
       "      <td>835264098648616962</td>\n",
       "      <td>https://pbs.twimg.com/media/C5d0QtvXMAI_7uz.jpg</td>\n",
       "      <td>2</td>\n",
       "      <td>hyena</td>\n",
       "      <td>0.736871</td>\n",
       "      <td>False</td>\n",
       "      <td>Chesapeake_Bay_retriever</td>\n",
       "      <td>0.087503</td>\n",
       "      <td>True</td>\n",
       "      <td>meerkat</td>\n",
       "      <td>0.042058</td>\n",
       "      <td>False</td>\n",
       "    </tr>\n",
       "  </tbody>\n",
       "</table>\n",
       "</div>"
      ],
      "text/plain": [
       "                tweet_id                                          jpg_url  \\\n",
       "1079  717841801130979328  https://pbs.twimg.com/media/CfZJTphWAAAl5Ys.jpg   \n",
       "455   674767892831932416  https://pbs.twimg.com/media/CV1B0WkWwAEBKVx.jpg   \n",
       "1727  820446719150292993  https://pbs.twimg.com/media/CxqsX-8XUAAEvjD.jpg   \n",
       "1385  766008592277377025  https://pbs.twimg.com/media/CqFouXOXYAAYpzG.jpg   \n",
       "1972  869596645499047938  https://pbs.twimg.com/media/DBFtiYqWAAAsjj1.jpg   \n",
       "673   683357973142474752  https://pbs.twimg.com/media/CXvGbWeWMAcRbyJ.jpg   \n",
       "2026  882045870035918850  https://pbs.twimg.com/media/DD2oCl2WAAEI_4a.jpg   \n",
       "1826  835264098648616962  https://pbs.twimg.com/media/C5d0QtvXMAI_7uz.jpg   \n",
       "\n",
       "      img_num                      p1   p1_conf  p1_dog  \\\n",
       "1079        1        Brittany_spaniel  0.922876    True   \n",
       "455         1          shower_curtain  0.238855   False   \n",
       "1727        3        golden_retriever  0.938048    True   \n",
       "1385        1  Welsh_springer_spaniel  0.728153    True   \n",
       "1972        1               Chihuahua  0.955156    True   \n",
       "673         1                Pembroke  0.406509    True   \n",
       "2026        1                web_site  0.949591   False   \n",
       "1826        2                   hyena  0.736871   False   \n",
       "\n",
       "                            p2   p2_conf  p2_dog                  p3  \\\n",
       "1079          English_springer  0.070113    True          bath_towel   \n",
       "455                     sarong  0.092414   False              kimono   \n",
       "1727                    kuvasz  0.025119    True  Labrador_retriever   \n",
       "1385                    basset  0.103842    True    Brittany_spaniel   \n",
       "1972               toy_terrier  0.008054    True              muzzle   \n",
       "673                   Cardigan  0.154854    True      Siberian_husky   \n",
       "2026                     dhole  0.017326   False    golden_retriever   \n",
       "1826  Chesapeake_Bay_retriever  0.087503    True             meerkat   \n",
       "\n",
       "       p3_conf  p3_dog  \n",
       "1079  0.002561   False  \n",
       "455   0.056412   False  \n",
       "1727  0.022977    True  \n",
       "1385  0.062414    True  \n",
       "1972  0.006296   False  \n",
       "673   0.136366    True  \n",
       "2026  0.006941    True  \n",
       "1826  0.042058   False  "
      ]
     },
     "execution_count": 47,
     "metadata": {},
     "output_type": "execute_result"
    }
   ],
   "source": [
    "df_image.sample(8)"
   ]
  },
  {
   "cell_type": "code",
   "execution_count": 46,
   "metadata": {},
   "outputs": [
    {
     "name": "stdout",
     "output_type": "stream",
     "text": [
      "<class 'pandas.core.frame.DataFrame'>\n",
      "RangeIndex: 2075 entries, 0 to 2074\n",
      "Data columns (total 12 columns):\n",
      "tweet_id    2075 non-null int64\n",
      "jpg_url     2075 non-null object\n",
      "img_num     2075 non-null int64\n",
      "p1          2075 non-null object\n",
      "p1_conf     2075 non-null float64\n",
      "p1_dog      2075 non-null bool\n",
      "p2          2075 non-null object\n",
      "p2_conf     2075 non-null float64\n",
      "p2_dog      2075 non-null bool\n",
      "p3          2075 non-null object\n",
      "p3_conf     2075 non-null float64\n",
      "p3_dog      2075 non-null bool\n",
      "dtypes: bool(3), float64(3), int64(2), object(4)\n",
      "memory usage: 152.1+ KB\n"
     ]
    }
   ],
   "source": [
    "df_image.info()"
   ]
  },
  {
   "cell_type": "code",
   "execution_count": 48,
   "metadata": {},
   "outputs": [
    {
     "data": {
      "text/plain": [
       "golden_retriever             150\n",
       "Labrador_retriever           100\n",
       "Pembroke                      89\n",
       "Chihuahua                     83\n",
       "pug                           57\n",
       "chow                          44\n",
       "Samoyed                       43\n",
       "toy_poodle                    39\n",
       "Pomeranian                    38\n",
       "cocker_spaniel                30\n",
       "malamute                      30\n",
       "French_bulldog                26\n",
       "miniature_pinscher            23\n",
       "Chesapeake_Bay_retriever      23\n",
       "seat_belt                     22\n",
       "Staffordshire_bullterrier     20\n",
       "Siberian_husky                20\n",
       "German_shepherd               20\n",
       "Cardigan                      19\n",
       "web_site                      19\n",
       "Maltese_dog                   18\n",
       "Shetland_sheepdog             18\n",
       "teddy                         18\n",
       "Eskimo_dog                    18\n",
       "beagle                        18\n",
       "Rottweiler                    17\n",
       "Lakeland_terrier              17\n",
       "Shih-Tzu                      17\n",
       "kuvasz                        16\n",
       "Italian_greyhound             16\n",
       "                            ... \n",
       "cougar                         1\n",
       "lynx                           1\n",
       "syringe                        1\n",
       "pitcher                        1\n",
       "swab                           1\n",
       "bonnet                         1\n",
       "barbell                        1\n",
       "coffee_mug                     1\n",
       "cheetah                        1\n",
       "loupe                          1\n",
       "revolver                       1\n",
       "bakery                         1\n",
       "trombone                       1\n",
       "black-footed_ferret            1\n",
       "bald_eagle                     1\n",
       "tailed_frog                    1\n",
       "EntleBucher                    1\n",
       "three-toed_sloth               1\n",
       "banana                         1\n",
       "maillot                        1\n",
       "four-poster                    1\n",
       "toilet_seat                    1\n",
       "fountain                       1\n",
       "snowmobile                     1\n",
       "sandbar                        1\n",
       "boathouse                      1\n",
       "park_bench                     1\n",
       "ice_lolly                      1\n",
       "coho                           1\n",
       "candle                         1\n",
       "Name: p1, Length: 378, dtype: int64"
      ]
     },
     "execution_count": 48,
     "metadata": {},
     "output_type": "execute_result"
    }
   ],
   "source": [
    "df_image['p1'].value_counts()"
   ]
  },
  {
   "cell_type": "code",
   "execution_count": 49,
   "metadata": {},
   "outputs": [
    {
     "data": {
      "text/html": [
       "<div>\n",
       "<style scoped>\n",
       "    .dataframe tbody tr th:only-of-type {\n",
       "        vertical-align: middle;\n",
       "    }\n",
       "\n",
       "    .dataframe tbody tr th {\n",
       "        vertical-align: top;\n",
       "    }\n",
       "\n",
       "    .dataframe thead th {\n",
       "        text-align: right;\n",
       "    }\n",
       "</style>\n",
       "<table border=\"1\" class=\"dataframe\">\n",
       "  <thead>\n",
       "    <tr style=\"text-align: right;\">\n",
       "      <th></th>\n",
       "      <th>tweet_id</th>\n",
       "      <th>favorite_count</th>\n",
       "      <th>retweet_count</th>\n",
       "    </tr>\n",
       "  </thead>\n",
       "  <tbody>\n",
       "    <tr>\n",
       "      <th>431</th>\n",
       "      <td>818627210458333184</td>\n",
       "      <td>20677</td>\n",
       "      <td>6932</td>\n",
       "    </tr>\n",
       "    <tr>\n",
       "      <th>1416</th>\n",
       "      <td>696490539101908992</td>\n",
       "      <td>1106</td>\n",
       "      <td>121</td>\n",
       "    </tr>\n",
       "    <tr>\n",
       "      <th>1971</th>\n",
       "      <td>672481316919734272</td>\n",
       "      <td>625</td>\n",
       "      <td>110</td>\n",
       "    </tr>\n",
       "    <tr>\n",
       "      <th>1928</th>\n",
       "      <td>673576835670777856</td>\n",
       "      <td>1203</td>\n",
       "      <td>479</td>\n",
       "    </tr>\n",
       "    <tr>\n",
       "      <th>1542</th>\n",
       "      <td>687664829264453632</td>\n",
       "      <td>1763</td>\n",
       "      <td>464</td>\n",
       "    </tr>\n",
       "    <tr>\n",
       "      <th>1671</th>\n",
       "      <td>680940246314430465</td>\n",
       "      <td>2854</td>\n",
       "      <td>917</td>\n",
       "    </tr>\n",
       "    <tr>\n",
       "      <th>933</th>\n",
       "      <td>750719632563142656</td>\n",
       "      <td>11952</td>\n",
       "      <td>4502</td>\n",
       "    </tr>\n",
       "    <tr>\n",
       "      <th>1385</th>\n",
       "      <td>698703483621523456</td>\n",
       "      <td>1291</td>\n",
       "      <td>332</td>\n",
       "    </tr>\n",
       "  </tbody>\n",
       "</table>\n",
       "</div>"
      ],
      "text/plain": [
       "                tweet_id  favorite_count  retweet_count\n",
       "431   818627210458333184           20677           6932\n",
       "1416  696490539101908992            1106            121\n",
       "1971  672481316919734272             625            110\n",
       "1928  673576835670777856            1203            479\n",
       "1542  687664829264453632            1763            464\n",
       "1671  680940246314430465            2854            917\n",
       "933   750719632563142656           11952           4502\n",
       "1385  698703483621523456            1291            332"
      ]
     },
     "execution_count": 49,
     "metadata": {},
     "output_type": "execute_result"
    }
   ],
   "source": [
    "df_tweets.sample(8)"
   ]
  },
  {
   "cell_type": "code",
   "execution_count": 50,
   "metadata": {},
   "outputs": [
    {
     "name": "stdout",
     "output_type": "stream",
     "text": [
      "<class 'pandas.core.frame.DataFrame'>\n",
      "RangeIndex: 2325 entries, 0 to 2324\n",
      "Data columns (total 3 columns):\n",
      "tweet_id          2325 non-null int64\n",
      "favorite_count    2325 non-null int64\n",
      "retweet_count     2325 non-null int64\n",
      "dtypes: int64(3)\n",
      "memory usage: 54.6 KB\n"
     ]
    }
   ],
   "source": [
    "df_tweets.info()"
   ]
  },
  {
   "cell_type": "code",
   "execution_count": 51,
   "metadata": {},
   "outputs": [
    {
     "data": {
      "text/html": [
       "<div>\n",
       "<style scoped>\n",
       "    .dataframe tbody tr th:only-of-type {\n",
       "        vertical-align: middle;\n",
       "    }\n",
       "\n",
       "    .dataframe tbody tr th {\n",
       "        vertical-align: top;\n",
       "    }\n",
       "\n",
       "    .dataframe thead th {\n",
       "        text-align: right;\n",
       "    }\n",
       "</style>\n",
       "<table border=\"1\" class=\"dataframe\">\n",
       "  <thead>\n",
       "    <tr style=\"text-align: right;\">\n",
       "      <th></th>\n",
       "      <th>tweet_id</th>\n",
       "      <th>favorite_count</th>\n",
       "      <th>retweet_count</th>\n",
       "    </tr>\n",
       "  </thead>\n",
       "  <tbody>\n",
       "    <tr>\n",
       "      <th>count</th>\n",
       "      <td>2.325000e+03</td>\n",
       "      <td>2325.000000</td>\n",
       "      <td>2325.000000</td>\n",
       "    </tr>\n",
       "    <tr>\n",
       "      <th>mean</th>\n",
       "      <td>7.416926e+17</td>\n",
       "      <td>6863.510108</td>\n",
       "      <td>2424.240000</td>\n",
       "    </tr>\n",
       "    <tr>\n",
       "      <th>std</th>\n",
       "      <td>6.814903e+16</td>\n",
       "      <td>10659.692607</td>\n",
       "      <td>4103.735194</td>\n",
       "    </tr>\n",
       "    <tr>\n",
       "      <th>min</th>\n",
       "      <td>6.660209e+17</td>\n",
       "      <td>0.000000</td>\n",
       "      <td>0.000000</td>\n",
       "    </tr>\n",
       "    <tr>\n",
       "      <th>25%</th>\n",
       "      <td>6.780233e+17</td>\n",
       "      <td>1197.000000</td>\n",
       "      <td>487.000000</td>\n",
       "    </tr>\n",
       "    <tr>\n",
       "      <th>50%</th>\n",
       "      <td>7.177900e+17</td>\n",
       "      <td>2974.000000</td>\n",
       "      <td>1127.000000</td>\n",
       "    </tr>\n",
       "    <tr>\n",
       "      <th>75%</th>\n",
       "      <td>7.986285e+17</td>\n",
       "      <td>8390.000000</td>\n",
       "      <td>2805.000000</td>\n",
       "    </tr>\n",
       "    <tr>\n",
       "      <th>max</th>\n",
       "      <td>8.924206e+17</td>\n",
       "      <td>141534.000000</td>\n",
       "      <td>69384.000000</td>\n",
       "    </tr>\n",
       "  </tbody>\n",
       "</table>\n",
       "</div>"
      ],
      "text/plain": [
       "           tweet_id  favorite_count  retweet_count\n",
       "count  2.325000e+03     2325.000000    2325.000000\n",
       "mean   7.416926e+17     6863.510108    2424.240000\n",
       "std    6.814903e+16    10659.692607    4103.735194\n",
       "min    6.660209e+17        0.000000       0.000000\n",
       "25%    6.780233e+17     1197.000000     487.000000\n",
       "50%    7.177900e+17     2974.000000    1127.000000\n",
       "75%    7.986285e+17     8390.000000    2805.000000\n",
       "max    8.924206e+17   141534.000000   69384.000000"
      ]
     },
     "execution_count": 51,
     "metadata": {},
     "output_type": "execute_result"
    }
   ],
   "source": [
    "df_tweets.describe()"
   ]
  },
  {
   "cell_type": "markdown",
   "metadata": {},
   "source": [
    "## Quality issues\n",
    "\n",
    "### df_tarchive\n",
    "\n",
    "1. There is some replies tweets (78) in the dataframe not a post \n",
    "\n",
    "2. There is (181) retweets in the dataframe not a original post\n",
    "\n",
    "3. The column 'timestamp' has string as data-type instead of datetime\n",
    "\n",
    "4. There is 23 rating-denominator diffrent of 10\n",
    "\n",
    "5. There is 440 rating-numerator inferior of 10 (ilogic in our case)\n",
    "\n",
    "6. There is 745 missing value (None) in the name column\n",
    "\n",
    "7. There is 45 wrong value ('a') in the name column \n",
    "\n",
    "8. Thre is 59 missing value in expanded_urls column "
   ]
  },
  {
   "cell_type": "markdown",
   "metadata": {
    "extensions": {
     "jupyter_dashboards": {
      "version": 1,
      "views": {
       "grid_default": {
        "col": 0,
        "height": 7,
        "hidden": false,
        "row": 40,
        "width": 12
       },
       "report_default": {
        "hidden": false
       }
      }
     }
    }
   },
   "source": [
    "## Tidiness issues\n",
    "\n",
    "### df_tarchive\n",
    "\n",
    "1. (doggo, floofer, pupper, puppo) are four columns representing the same     variable.\n",
    "\n",
    "### df_image\n",
    "\n",
    "2. The columns ( p1, p1_dogs, p2, p2_dogs, p3, p3_dogs) are 6 columns representing just 2 variables\n",
    "\n",
    "### df_tarchive, df_image,  df_tweets\n",
    "\n",
    "3. Those three dataframes data is related by the column 'tweet_id' and should be merged together."
   ]
  },
  {
   "cell_type": "markdown",
   "metadata": {
    "extensions": {
     "jupyter_dashboards": {
      "version": 1,
      "views": {
       "grid_default": {
        "col": 4,
        "height": 4,
        "hidden": false,
        "row": 32,
        "width": 4
       },
       "report_default": {
        "hidden": false
       }
      }
     }
    }
   },
   "source": [
    "## Cleaning Data\n",
    "In this section, clean **all** of the issues you documented while assessing. \n",
    "\n",
    "**Note:** Make a copy of the original data before cleaning. Cleaning includes merging individual pieces of data according to the rules of [tidy data](https://cran.r-project.org/web/packages/tidyr/vignettes/tidy-data.html). The result should be a high-quality and tidy master pandas DataFrame (or DataFrames, if appropriate)."
   ]
  },
  {
   "cell_type": "code",
   "execution_count": 6,
   "metadata": {},
   "outputs": [],
   "source": [
    "# Make copies of original pieces of data\n",
    "df_tarchive_clean = df_tarchive.copy()\n",
    "df_image_clean = df_image.copy()\n",
    "df_tweets_clean = df_tweets.copy()"
   ]
  },
  {
   "cell_type": "markdown",
   "metadata": {},
   "source": [
    "Testing the copy Operation"
   ]
  },
  {
   "cell_type": "code",
   "execution_count": 9,
   "metadata": {},
   "outputs": [
    {
     "data": {
      "text/html": [
       "<div>\n",
       "<style scoped>\n",
       "    .dataframe tbody tr th:only-of-type {\n",
       "        vertical-align: middle;\n",
       "    }\n",
       "\n",
       "    .dataframe tbody tr th {\n",
       "        vertical-align: top;\n",
       "    }\n",
       "\n",
       "    .dataframe thead th {\n",
       "        text-align: right;\n",
       "    }\n",
       "</style>\n",
       "<table border=\"1\" class=\"dataframe\">\n",
       "  <thead>\n",
       "    <tr style=\"text-align: right;\">\n",
       "      <th></th>\n",
       "      <th>tweet_id</th>\n",
       "      <th>in_reply_to_status_id</th>\n",
       "      <th>in_reply_to_user_id</th>\n",
       "      <th>timestamp</th>\n",
       "      <th>source</th>\n",
       "      <th>text</th>\n",
       "      <th>retweeted_status_id</th>\n",
       "      <th>retweeted_status_user_id</th>\n",
       "      <th>retweeted_status_timestamp</th>\n",
       "      <th>expanded_urls</th>\n",
       "      <th>rating_numerator</th>\n",
       "      <th>rating_denominator</th>\n",
       "      <th>name</th>\n",
       "      <th>doggo</th>\n",
       "      <th>floofer</th>\n",
       "      <th>pupper</th>\n",
       "      <th>puppo</th>\n",
       "    </tr>\n",
       "  </thead>\n",
       "  <tbody>\n",
       "    <tr>\n",
       "      <th>762</th>\n",
       "      <td>778039087836069888</td>\n",
       "      <td>NaN</td>\n",
       "      <td>NaN</td>\n",
       "      <td>2016-09-20 01:12:28 +0000</td>\n",
       "      <td>&lt;a href=\"http://twitter.com/download/iphone\" r...</td>\n",
       "      <td>Evolution of a pupper yawn featuring Max. 12/1...</td>\n",
       "      <td>NaN</td>\n",
       "      <td>NaN</td>\n",
       "      <td>NaN</td>\n",
       "      <td>https://twitter.com/dog_rates/status/778039087...</td>\n",
       "      <td>12</td>\n",
       "      <td>10</td>\n",
       "      <td>None</td>\n",
       "      <td>None</td>\n",
       "      <td>None</td>\n",
       "      <td>pupper</td>\n",
       "      <td>None</td>\n",
       "    </tr>\n",
       "    <tr>\n",
       "      <th>825</th>\n",
       "      <td>769695466921623552</td>\n",
       "      <td>NaN</td>\n",
       "      <td>NaN</td>\n",
       "      <td>2016-08-28 00:37:54 +0000</td>\n",
       "      <td>&lt;a href=\"http://twitter.com/download/iphone\" r...</td>\n",
       "      <td>This is Titan. He's trying to make friends. Of...</td>\n",
       "      <td>NaN</td>\n",
       "      <td>NaN</td>\n",
       "      <td>NaN</td>\n",
       "      <td>https://twitter.com/dog_rates/status/769695466...</td>\n",
       "      <td>13</td>\n",
       "      <td>10</td>\n",
       "      <td>Titan</td>\n",
       "      <td>None</td>\n",
       "      <td>None</td>\n",
       "      <td>None</td>\n",
       "      <td>None</td>\n",
       "    </tr>\n",
       "    <tr>\n",
       "      <th>364</th>\n",
       "      <td>829141528400556032</td>\n",
       "      <td>NaN</td>\n",
       "      <td>NaN</td>\n",
       "      <td>2017-02-08 01:35:19 +0000</td>\n",
       "      <td>&lt;a href=\"http://twitter.com/download/iphone\" r...</td>\n",
       "      <td>This is Malcolm. He goes from sneaky tongue sl...</td>\n",
       "      <td>NaN</td>\n",
       "      <td>NaN</td>\n",
       "      <td>NaN</td>\n",
       "      <td>https://twitter.com/dog_rates/status/829141528...</td>\n",
       "      <td>12</td>\n",
       "      <td>10</td>\n",
       "      <td>Malcolm</td>\n",
       "      <td>None</td>\n",
       "      <td>None</td>\n",
       "      <td>None</td>\n",
       "      <td>None</td>\n",
       "    </tr>\n",
       "  </tbody>\n",
       "</table>\n",
       "</div>"
      ],
      "text/plain": [
       "               tweet_id  in_reply_to_status_id  in_reply_to_user_id  \\\n",
       "762  778039087836069888                    NaN                  NaN   \n",
       "825  769695466921623552                    NaN                  NaN   \n",
       "364  829141528400556032                    NaN                  NaN   \n",
       "\n",
       "                     timestamp  \\\n",
       "762  2016-09-20 01:12:28 +0000   \n",
       "825  2016-08-28 00:37:54 +0000   \n",
       "364  2017-02-08 01:35:19 +0000   \n",
       "\n",
       "                                                source  \\\n",
       "762  <a href=\"http://twitter.com/download/iphone\" r...   \n",
       "825  <a href=\"http://twitter.com/download/iphone\" r...   \n",
       "364  <a href=\"http://twitter.com/download/iphone\" r...   \n",
       "\n",
       "                                                  text  retweeted_status_id  \\\n",
       "762  Evolution of a pupper yawn featuring Max. 12/1...                  NaN   \n",
       "825  This is Titan. He's trying to make friends. Of...                  NaN   \n",
       "364  This is Malcolm. He goes from sneaky tongue sl...                  NaN   \n",
       "\n",
       "     retweeted_status_user_id retweeted_status_timestamp  \\\n",
       "762                       NaN                        NaN   \n",
       "825                       NaN                        NaN   \n",
       "364                       NaN                        NaN   \n",
       "\n",
       "                                         expanded_urls  rating_numerator  \\\n",
       "762  https://twitter.com/dog_rates/status/778039087...                12   \n",
       "825  https://twitter.com/dog_rates/status/769695466...                13   \n",
       "364  https://twitter.com/dog_rates/status/829141528...                12   \n",
       "\n",
       "     rating_denominator     name doggo floofer  pupper puppo  \n",
       "762                  10     None  None    None  pupper  None  \n",
       "825                  10    Titan  None    None    None  None  \n",
       "364                  10  Malcolm  None    None    None  None  "
      ]
     },
     "execution_count": 9,
     "metadata": {},
     "output_type": "execute_result"
    }
   ],
   "source": [
    "df_tarchive_clean.sample(3)"
   ]
  },
  {
   "cell_type": "code",
   "execution_count": 10,
   "metadata": {},
   "outputs": [
    {
     "data": {
      "text/html": [
       "<div>\n",
       "<style scoped>\n",
       "    .dataframe tbody tr th:only-of-type {\n",
       "        vertical-align: middle;\n",
       "    }\n",
       "\n",
       "    .dataframe tbody tr th {\n",
       "        vertical-align: top;\n",
       "    }\n",
       "\n",
       "    .dataframe thead th {\n",
       "        text-align: right;\n",
       "    }\n",
       "</style>\n",
       "<table border=\"1\" class=\"dataframe\">\n",
       "  <thead>\n",
       "    <tr style=\"text-align: right;\">\n",
       "      <th></th>\n",
       "      <th>tweet_id</th>\n",
       "      <th>jpg_url</th>\n",
       "      <th>img_num</th>\n",
       "      <th>p1</th>\n",
       "      <th>p1_conf</th>\n",
       "      <th>p1_dog</th>\n",
       "      <th>p2</th>\n",
       "      <th>p2_conf</th>\n",
       "      <th>p2_dog</th>\n",
       "      <th>p3</th>\n",
       "      <th>p3_conf</th>\n",
       "      <th>p3_dog</th>\n",
       "    </tr>\n",
       "  </thead>\n",
       "  <tbody>\n",
       "    <tr>\n",
       "      <th>1164</th>\n",
       "      <td>735256018284875776</td>\n",
       "      <td>https://pbs.twimg.com/media/CjQnclkVEAA4pnK.jpg</td>\n",
       "      <td>1</td>\n",
       "      <td>Staffordshire_bullterrier</td>\n",
       "      <td>0.523191</td>\n",
       "      <td>True</td>\n",
       "      <td>French_bulldog</td>\n",
       "      <td>0.351104</td>\n",
       "      <td>True</td>\n",
       "      <td>doormat</td>\n",
       "      <td>0.028075</td>\n",
       "      <td>False</td>\n",
       "    </tr>\n",
       "    <tr>\n",
       "      <th>1054</th>\n",
       "      <td>714251586676113411</td>\n",
       "      <td>https://pbs.twimg.com/media/CemIBt4WwAQqhVV.jpg</td>\n",
       "      <td>2</td>\n",
       "      <td>soft-coated_wheaten_terrier</td>\n",
       "      <td>0.751962</td>\n",
       "      <td>True</td>\n",
       "      <td>Bedlington_terrier</td>\n",
       "      <td>0.175652</td>\n",
       "      <td>True</td>\n",
       "      <td>Great_Pyrenees</td>\n",
       "      <td>0.011452</td>\n",
       "      <td>True</td>\n",
       "    </tr>\n",
       "    <tr>\n",
       "      <th>95</th>\n",
       "      <td>667550904950915073</td>\n",
       "      <td>https://pbs.twimg.com/media/CUOb_gUUkAACXdS.jpg</td>\n",
       "      <td>1</td>\n",
       "      <td>web_site</td>\n",
       "      <td>0.999335</td>\n",
       "      <td>False</td>\n",
       "      <td>vizsla</td>\n",
       "      <td>0.000081</td>\n",
       "      <td>True</td>\n",
       "      <td>collie</td>\n",
       "      <td>0.000069</td>\n",
       "      <td>True</td>\n",
       "    </tr>\n",
       "  </tbody>\n",
       "</table>\n",
       "</div>"
      ],
      "text/plain": [
       "                tweet_id                                          jpg_url  \\\n",
       "1164  735256018284875776  https://pbs.twimg.com/media/CjQnclkVEAA4pnK.jpg   \n",
       "1054  714251586676113411  https://pbs.twimg.com/media/CemIBt4WwAQqhVV.jpg   \n",
       "95    667550904950915073  https://pbs.twimg.com/media/CUOb_gUUkAACXdS.jpg   \n",
       "\n",
       "      img_num                           p1   p1_conf  p1_dog  \\\n",
       "1164        1    Staffordshire_bullterrier  0.523191    True   \n",
       "1054        2  soft-coated_wheaten_terrier  0.751962    True   \n",
       "95          1                     web_site  0.999335   False   \n",
       "\n",
       "                      p2   p2_conf  p2_dog              p3   p3_conf  p3_dog  \n",
       "1164      French_bulldog  0.351104    True         doormat  0.028075   False  \n",
       "1054  Bedlington_terrier  0.175652    True  Great_Pyrenees  0.011452    True  \n",
       "95                vizsla  0.000081    True          collie  0.000069    True  "
      ]
     },
     "execution_count": 10,
     "metadata": {},
     "output_type": "execute_result"
    }
   ],
   "source": [
    "df_image_clean.sample(3)"
   ]
  },
  {
   "cell_type": "code",
   "execution_count": 12,
   "metadata": {},
   "outputs": [
    {
     "data": {
      "text/html": [
       "<div>\n",
       "<style scoped>\n",
       "    .dataframe tbody tr th:only-of-type {\n",
       "        vertical-align: middle;\n",
       "    }\n",
       "\n",
       "    .dataframe tbody tr th {\n",
       "        vertical-align: top;\n",
       "    }\n",
       "\n",
       "    .dataframe thead th {\n",
       "        text-align: right;\n",
       "    }\n",
       "</style>\n",
       "<table border=\"1\" class=\"dataframe\">\n",
       "  <thead>\n",
       "    <tr style=\"text-align: right;\">\n",
       "      <th></th>\n",
       "      <th>tweet_id</th>\n",
       "      <th>favorite_count</th>\n",
       "      <th>retweet_count</th>\n",
       "    </tr>\n",
       "  </thead>\n",
       "  <tbody>\n",
       "    <tr>\n",
       "      <th>28</th>\n",
       "      <td>886366144734445568</td>\n",
       "      <td>17991</td>\n",
       "      <td>2572</td>\n",
       "    </tr>\n",
       "    <tr>\n",
       "      <th>984</th>\n",
       "      <td>747204161125646336</td>\n",
       "      <td>3044</td>\n",
       "      <td>811</td>\n",
       "    </tr>\n",
       "    <tr>\n",
       "      <th>2118</th>\n",
       "      <td>669684865554620416</td>\n",
       "      <td>438</td>\n",
       "      <td>74</td>\n",
       "    </tr>\n",
       "  </tbody>\n",
       "</table>\n",
       "</div>"
      ],
      "text/plain": [
       "                tweet_id  favorite_count  retweet_count\n",
       "28    886366144734445568           17991           2572\n",
       "984   747204161125646336            3044            811\n",
       "2118  669684865554620416             438             74"
      ]
     },
     "execution_count": 12,
     "metadata": {},
     "output_type": "execute_result"
    }
   ],
   "source": [
    "df_tweets_clean.sample(3)"
   ]
  },
  {
   "cell_type": "markdown",
   "metadata": {},
   "source": [
    "## Tidiness"
   ]
  },
  {
   "cell_type": "markdown",
   "metadata": {},
   "source": [
    "### Issue #1:"
   ]
  },
  {
   "cell_type": "markdown",
   "metadata": {},
   "source": [
    "#### Define:\n",
    "Merge the 4 columns(doggo, floofer, pupper, puppo) in one single column called dog_kind  and we can extact it from the text column"
   ]
  },
  {
   "cell_type": "markdown",
   "metadata": {},
   "source": [
    "#### Code"
   ]
  },
  {
   "cell_type": "code",
   "execution_count": 7,
   "metadata": {},
   "outputs": [],
   "source": [
    "#extract the values from the text column to create the dog_kind column\n",
    "df_tarchive_clean['dog_kind'] = df_tarchive_clean['text'].str.extract('(pupper|puppo|doggo|floofer)')\n",
    "# after creating the dog_kind column the four columns are useless so we drop them\n",
    "df_tarchive_clean.drop(columns= ['doggo', 'floofer', 'pupper', 'puppo'], inplace=True)"
   ]
  },
  {
   "cell_type": "markdown",
   "metadata": {},
   "source": [
    "#### Test"
   ]
  },
  {
   "cell_type": "code",
   "execution_count": 48,
   "metadata": {},
   "outputs": [
    {
     "data": {
      "text/plain": [
       "pupper     265\n",
       "doggo       93\n",
       "puppo       37\n",
       "floofer      4\n",
       "Name: dog_kind, dtype: int64"
      ]
     },
     "execution_count": 48,
     "metadata": {},
     "output_type": "execute_result"
    }
   ],
   "source": [
    "df_tarchive_clean['dog_kind'].value_counts()"
   ]
  },
  {
   "cell_type": "markdown",
   "metadata": {},
   "source": [
    "### Issue #2:"
   ]
  },
  {
   "cell_type": "markdown",
   "metadata": {
    "collapsed": true,
    "extensions": {
     "jupyter_dashboards": {
      "version": 1,
      "views": {
       "grid_default": {
        "hidden": true
       },
       "report_default": {
        "hidden": true
       }
      }
     }
    }
   },
   "source": [
    "#### Define\n",
    "Merge the three dataframes (df_tarchive_clean, df_image_clean,  df_tweets_clean) into one dataframe called 'df_dog_tweets'"
   ]
  },
  {
   "cell_type": "markdown",
   "metadata": {},
   "source": [
    "#### Code"
   ]
  },
  {
   "cell_type": "code",
   "execution_count": 8,
   "metadata": {},
   "outputs": [],
   "source": [
    "# Merging the three dataframes two by two\n",
    "df_dog_tweets = pd.merge(df_tarchive_clean,df_image_clean, on ='tweet_id')\n",
    "df_dog_tweets = pd.merge(df_dog_tweets,df_tweets_clean, on ='tweet_id')"
   ]
  },
  {
   "cell_type": "markdown",
   "metadata": {},
   "source": [
    "#### Test"
   ]
  },
  {
   "cell_type": "code",
   "execution_count": 9,
   "metadata": {},
   "outputs": [
    {
     "name": "stdout",
     "output_type": "stream",
     "text": [
      "<class 'pandas.core.frame.DataFrame'>\n",
      "Int64Index: 2055 entries, 0 to 2054\n",
      "Data columns (total 27 columns):\n",
      "tweet_id                      2055 non-null int64\n",
      "in_reply_to_status_id         23 non-null float64\n",
      "in_reply_to_user_id           23 non-null float64\n",
      "timestamp                     2055 non-null object\n",
      "source                        2055 non-null object\n",
      "text                          2055 non-null object\n",
      "retweeted_status_id           69 non-null float64\n",
      "retweeted_status_user_id      69 non-null float64\n",
      "retweeted_status_timestamp    69 non-null object\n",
      "expanded_urls                 2055 non-null object\n",
      "rating_numerator              2055 non-null int64\n",
      "rating_denominator            2055 non-null int64\n",
      "name                          2055 non-null object\n",
      "dog_kind                      333 non-null object\n",
      "jpg_url                       2055 non-null object\n",
      "img_num                       2055 non-null int64\n",
      "p1                            2055 non-null object\n",
      "p1_conf                       2055 non-null float64\n",
      "p1_dog                        2055 non-null bool\n",
      "p2                            2055 non-null object\n",
      "p2_conf                       2055 non-null float64\n",
      "p2_dog                        2055 non-null bool\n",
      "p3                            2055 non-null object\n",
      "p3_conf                       2055 non-null float64\n",
      "p3_dog                        2055 non-null bool\n",
      "favorite_count                2055 non-null int64\n",
      "retweet_count                 2055 non-null int64\n",
      "dtypes: bool(3), float64(7), int64(6), object(11)\n",
      "memory usage: 407.4+ KB\n"
     ]
    }
   ],
   "source": [
    "df_dog_tweets.info()"
   ]
  },
  {
   "cell_type": "markdown",
   "metadata": {},
   "source": [
    "## Quality"
   ]
  },
  {
   "cell_type": "markdown",
   "metadata": {},
   "source": [
    "### Issue #1:"
   ]
  },
  {
   "cell_type": "markdown",
   "metadata": {},
   "source": [
    "#### Define:\n",
    "Delete the retweets from the dataframe"
   ]
  },
  {
   "cell_type": "markdown",
   "metadata": {},
   "source": [
    "#### Code"
   ]
  },
  {
   "cell_type": "code",
   "execution_count": 13,
   "metadata": {},
   "outputs": [],
   "source": [
    "df_dog_tweets.drop(df_dog_tweets[df_dog_tweets['retweeted_status_id'].notnull()].index,\n",
    "                   inplace=True)"
   ]
  },
  {
   "cell_type": "markdown",
   "metadata": {},
   "source": [
    "#### Test"
   ]
  },
  {
   "cell_type": "code",
   "execution_count": 14,
   "metadata": {},
   "outputs": [
    {
     "name": "stdout",
     "output_type": "stream",
     "text": [
      "<class 'pandas.core.frame.DataFrame'>\n",
      "Int64Index: 1986 entries, 0 to 2054\n",
      "Data columns (total 27 columns):\n",
      "tweet_id                      1986 non-null int64\n",
      "in_reply_to_status_id         23 non-null float64\n",
      "in_reply_to_user_id           23 non-null float64\n",
      "timestamp                     1986 non-null object\n",
      "source                        1986 non-null object\n",
      "text                          1986 non-null object\n",
      "retweeted_status_id           0 non-null float64\n",
      "retweeted_status_user_id      0 non-null float64\n",
      "retweeted_status_timestamp    0 non-null object\n",
      "expanded_urls                 1986 non-null object\n",
      "rating_numerator              1986 non-null int64\n",
      "rating_denominator            1986 non-null int64\n",
      "name                          1986 non-null object\n",
      "dog_kind                      324 non-null object\n",
      "jpg_url                       1986 non-null object\n",
      "img_num                       1986 non-null int64\n",
      "p1                            1986 non-null object\n",
      "p1_conf                       1986 non-null float64\n",
      "p1_dog                        1986 non-null bool\n",
      "p2                            1986 non-null object\n",
      "p2_conf                       1986 non-null float64\n",
      "p2_dog                        1986 non-null bool\n",
      "p3                            1986 non-null object\n",
      "p3_conf                       1986 non-null float64\n",
      "p3_dog                        1986 non-null bool\n",
      "favorite_count                1986 non-null int64\n",
      "retweet_count                 1986 non-null int64\n",
      "dtypes: bool(3), float64(7), int64(6), object(11)\n",
      "memory usage: 393.7+ KB\n"
     ]
    }
   ],
   "source": [
    "df_dog_tweets.info()"
   ]
  },
  {
   "cell_type": "markdown",
   "metadata": {},
   "source": [
    "#### Define:\n",
    "Delete all the retweets columns from the dataframe"
   ]
  },
  {
   "cell_type": "markdown",
   "metadata": {},
   "source": [
    "#### Code"
   ]
  },
  {
   "cell_type": "code",
   "execution_count": 15,
   "metadata": {},
   "outputs": [],
   "source": [
    "df_dog_tweets.drop(['retweeted_status_id','retweeted_status_user_id','retweeted_status_timestamp'],axis=1, inplace=True)"
   ]
  },
  {
   "cell_type": "markdown",
   "metadata": {},
   "source": [
    "#### Test"
   ]
  },
  {
   "cell_type": "code",
   "execution_count": 16,
   "metadata": {},
   "outputs": [
    {
     "name": "stdout",
     "output_type": "stream",
     "text": [
      "<class 'pandas.core.frame.DataFrame'>\n",
      "Int64Index: 1986 entries, 0 to 2054\n",
      "Data columns (total 24 columns):\n",
      "tweet_id                 1986 non-null int64\n",
      "in_reply_to_status_id    23 non-null float64\n",
      "in_reply_to_user_id      23 non-null float64\n",
      "timestamp                1986 non-null object\n",
      "source                   1986 non-null object\n",
      "text                     1986 non-null object\n",
      "expanded_urls            1986 non-null object\n",
      "rating_numerator         1986 non-null int64\n",
      "rating_denominator       1986 non-null int64\n",
      "name                     1986 non-null object\n",
      "dog_kind                 324 non-null object\n",
      "jpg_url                  1986 non-null object\n",
      "img_num                  1986 non-null int64\n",
      "p1                       1986 non-null object\n",
      "p1_conf                  1986 non-null float64\n",
      "p1_dog                   1986 non-null bool\n",
      "p2                       1986 non-null object\n",
      "p2_conf                  1986 non-null float64\n",
      "p2_dog                   1986 non-null bool\n",
      "p3                       1986 non-null object\n",
      "p3_conf                  1986 non-null float64\n",
      "p3_dog                   1986 non-null bool\n",
      "favorite_count           1986 non-null int64\n",
      "retweet_count            1986 non-null int64\n",
      "dtypes: bool(3), float64(5), int64(6), object(10)\n",
      "memory usage: 347.2+ KB\n"
     ]
    }
   ],
   "source": [
    "df_dog_tweets.info()"
   ]
  },
  {
   "cell_type": "markdown",
   "metadata": {},
   "source": [
    "### Issue #2:"
   ]
  },
  {
   "cell_type": "markdown",
   "metadata": {},
   "source": [
    "#### Define:\n",
    "Delete replies from the dataframe"
   ]
  },
  {
   "cell_type": "markdown",
   "metadata": {},
   "source": [
    "#### Code"
   ]
  },
  {
   "cell_type": "code",
   "execution_count": 17,
   "metadata": {},
   "outputs": [],
   "source": [
    "df_dog_tweets.drop(df_dog_tweets[df_dog_tweets['in_reply_to_status_id'].notnull()].index,\n",
    "                   inplace=True)\n",
    "df_dog_tweets.drop(['in_reply_to_status_id','in_reply_to_user_id'],axis=1, inplace=True)"
   ]
  },
  {
   "cell_type": "markdown",
   "metadata": {},
   "source": [
    "#### Test"
   ]
  },
  {
   "cell_type": "code",
   "execution_count": 18,
   "metadata": {},
   "outputs": [
    {
     "name": "stdout",
     "output_type": "stream",
     "text": [
      "<class 'pandas.core.frame.DataFrame'>\n",
      "Int64Index: 1963 entries, 0 to 2054\n",
      "Data columns (total 22 columns):\n",
      "tweet_id              1963 non-null int64\n",
      "timestamp             1963 non-null object\n",
      "source                1963 non-null object\n",
      "text                  1963 non-null object\n",
      "expanded_urls         1963 non-null object\n",
      "rating_numerator      1963 non-null int64\n",
      "rating_denominator    1963 non-null int64\n",
      "name                  1963 non-null object\n",
      "dog_kind              320 non-null object\n",
      "jpg_url               1963 non-null object\n",
      "img_num               1963 non-null int64\n",
      "p1                    1963 non-null object\n",
      "p1_conf               1963 non-null float64\n",
      "p1_dog                1963 non-null bool\n",
      "p2                    1963 non-null object\n",
      "p2_conf               1963 non-null float64\n",
      "p2_dog                1963 non-null bool\n",
      "p3                    1963 non-null object\n",
      "p3_conf               1963 non-null float64\n",
      "p3_dog                1963 non-null bool\n",
      "favorite_count        1963 non-null int64\n",
      "retweet_count         1963 non-null int64\n",
      "dtypes: bool(3), float64(3), int64(6), object(10)\n",
      "memory usage: 312.5+ KB\n"
     ]
    }
   ],
   "source": [
    "df_dog_tweets.info()"
   ]
  },
  {
   "cell_type": "markdown",
   "metadata": {},
   "source": [
    "### Issue #3:"
   ]
  },
  {
   "cell_type": "markdown",
   "metadata": {},
   "source": [
    "#### Define:\n",
    "Convert the timestamp column data-type from string to datetime"
   ]
  },
  {
   "cell_type": "markdown",
   "metadata": {},
   "source": [
    "#### Code"
   ]
  },
  {
   "cell_type": "code",
   "execution_count": 19,
   "metadata": {},
   "outputs": [],
   "source": [
    "df_dog_tweets['timestamp'] = pd.to_datetime(df_dog_tweets['timestamp'])"
   ]
  },
  {
   "cell_type": "markdown",
   "metadata": {},
   "source": [
    "#### Test"
   ]
  },
  {
   "cell_type": "code",
   "execution_count": 20,
   "metadata": {},
   "outputs": [
    {
     "data": {
      "text/plain": [
       "tweet_id                       int64\n",
       "timestamp             datetime64[ns]\n",
       "source                        object\n",
       "text                          object\n",
       "expanded_urls                 object\n",
       "rating_numerator               int64\n",
       "rating_denominator             int64\n",
       "name                          object\n",
       "dog_kind                      object\n",
       "jpg_url                       object\n",
       "img_num                        int64\n",
       "p1                            object\n",
       "p1_conf                      float64\n",
       "p1_dog                          bool\n",
       "p2                            object\n",
       "p2_conf                      float64\n",
       "p2_dog                          bool\n",
       "p3                            object\n",
       "p3_conf                      float64\n",
       "p3_dog                          bool\n",
       "favorite_count                 int64\n",
       "retweet_count                  int64\n",
       "dtype: object"
      ]
     },
     "execution_count": 20,
     "metadata": {},
     "output_type": "execute_result"
    }
   ],
   "source": [
    "df_dog_tweets.dtypes"
   ]
  },
  {
   "cell_type": "markdown",
   "metadata": {},
   "source": [
    "### Issue #4:"
   ]
  },
  {
   "cell_type": "markdown",
   "metadata": {},
   "source": [
    "#### Define:\n",
    "Correct all denominators diffrent of 10"
   ]
  },
  {
   "cell_type": "markdown",
   "metadata": {},
   "source": [
    "#### Code"
   ]
  },
  {
   "cell_type": "code",
   "execution_count": 28,
   "metadata": {},
   "outputs": [],
   "source": [
    "df_dog_tweets = df_dog_tweets.assign(rating_denominator = 10)"
   ]
  },
  {
   "cell_type": "markdown",
   "metadata": {},
   "source": [
    "#### Test"
   ]
  },
  {
   "cell_type": "code",
   "execution_count": 27,
   "metadata": {},
   "outputs": [
    {
     "data": {
      "text/plain": [
       "10    1963\n",
       "Name: rating_denominator, dtype: int64"
      ]
     },
     "execution_count": 27,
     "metadata": {},
     "output_type": "execute_result"
    }
   ],
   "source": [
    "df_dog_tweets['rating_denominator'].value_counts()"
   ]
  },
  {
   "cell_type": "markdown",
   "metadata": {},
   "source": [
    "### Issue #5:"
   ]
  },
  {
   "cell_type": "markdown",
   "metadata": {},
   "source": [
    "#### Define:\n",
    "Replace the value 'None' with NaN in name column to avoid this values in stats"
   ]
  },
  {
   "cell_type": "markdown",
   "metadata": {},
   "source": [
    "#### Code"
   ]
  },
  {
   "cell_type": "code",
   "execution_count": 30,
   "metadata": {},
   "outputs": [],
   "source": [
    "df_dog_tweets['name'] = df_dog_tweets['name'].replace('None', np.nan)"
   ]
  },
  {
   "cell_type": "markdown",
   "metadata": {},
   "source": [
    "#### Test"
   ]
  },
  {
   "cell_type": "code",
   "execution_count": 31,
   "metadata": {},
   "outputs": [
    {
     "data": {
      "text/plain": [
       "a             55\n",
       "Cooper        10\n",
       "Oliver        10\n",
       "Charlie       10\n",
       "Lucy           9\n",
       "Tucker         9\n",
       "Penny          9\n",
       "Sadie          8\n",
       "Winston        8\n",
       "the            7\n",
       "Daisy          7\n",
       "Toby           7\n",
       "Lola           7\n",
       "Jax            6\n",
       "Koda           6\n",
       "Stanley        6\n",
       "an             6\n",
       "Bo             6\n",
       "Bella          6\n",
       "Dave           5\n",
       "Leo            5\n",
       "Buddy          5\n",
       "Milo           5\n",
       "Louis          5\n",
       "Rusty          5\n",
       "Chester        5\n",
       "Oscar          5\n",
       "Scout          5\n",
       "Bailey         5\n",
       "Derek          4\n",
       "              ..\n",
       "Ralphé         1\n",
       "Bonaparte      1\n",
       "Noosh          1\n",
       "Furzey         1\n",
       "Ken            1\n",
       "Venti          1\n",
       "Duchess        1\n",
       "Shiloh         1\n",
       "Rilo           1\n",
       "Canela         1\n",
       "Stella         1\n",
       "Pilot          1\n",
       "Severus        1\n",
       "Halo           1\n",
       "Chesterson     1\n",
       "Trigger        1\n",
       "Willow         1\n",
       "Torque         1\n",
       "Rizzy          1\n",
       "Remus          1\n",
       "Bowie          1\n",
       "Pavlov         1\n",
       "Hercules       1\n",
       "Scruffers      1\n",
       "Herb           1\n",
       "Socks          1\n",
       "Carter         1\n",
       "Bobb           1\n",
       "Godi           1\n",
       "Cermet         1\n",
       "Name: name, Length: 932, dtype: int64"
      ]
     },
     "execution_count": 31,
     "metadata": {},
     "output_type": "execute_result"
    }
   ],
   "source": [
    "df_dog_tweets['name'].value_counts()"
   ]
  },
  {
   "cell_type": "markdown",
   "metadata": {},
   "source": [
    "### Issue #6:"
   ]
  },
  {
   "cell_type": "markdown",
   "metadata": {},
   "source": [
    "#### Define:\n",
    "The expanded_urls column has no role in our anlyze process so we are going to delete it."
   ]
  },
  {
   "cell_type": "markdown",
   "metadata": {},
   "source": [
    "#### Code"
   ]
  },
  {
   "cell_type": "code",
   "execution_count": 32,
   "metadata": {},
   "outputs": [],
   "source": [
    "df_dog_tweets.drop('expanded_urls', axis=1, inplace=True)"
   ]
  },
  {
   "cell_type": "markdown",
   "metadata": {},
   "source": [
    "#### Test"
   ]
  },
  {
   "cell_type": "code",
   "execution_count": 33,
   "metadata": {},
   "outputs": [
    {
     "name": "stdout",
     "output_type": "stream",
     "text": [
      "<class 'pandas.core.frame.DataFrame'>\n",
      "Int64Index: 1963 entries, 0 to 2054\n",
      "Data columns (total 21 columns):\n",
      "tweet_id              1963 non-null int64\n",
      "timestamp             1963 non-null datetime64[ns]\n",
      "source                1963 non-null object\n",
      "text                  1963 non-null object\n",
      "rating_numerator      1963 non-null int64\n",
      "rating_denominator    1963 non-null int64\n",
      "name                  1440 non-null object\n",
      "dog_kind              320 non-null object\n",
      "jpg_url               1963 non-null object\n",
      "img_num               1963 non-null int64\n",
      "p1                    1963 non-null object\n",
      "p1_conf               1963 non-null float64\n",
      "p1_dog                1963 non-null bool\n",
      "p2                    1963 non-null object\n",
      "p2_conf               1963 non-null float64\n",
      "p2_dog                1963 non-null bool\n",
      "p3                    1963 non-null object\n",
      "p3_conf               1963 non-null float64\n",
      "p3_dog                1963 non-null bool\n",
      "favorite_count        1963 non-null int64\n",
      "retweet_count         1963 non-null int64\n",
      "dtypes: bool(3), datetime64[ns](1), float64(3), int64(6), object(8)\n",
      "memory usage: 297.1+ KB\n"
     ]
    }
   ],
   "source": [
    "df_dog_tweets.info()"
   ]
  },
  {
   "cell_type": "code",
   "execution_count": 34,
   "metadata": {},
   "outputs": [
    {
     "data": {
      "text/html": [
       "<div>\n",
       "<style scoped>\n",
       "    .dataframe tbody tr th:only-of-type {\n",
       "        vertical-align: middle;\n",
       "    }\n",
       "\n",
       "    .dataframe tbody tr th {\n",
       "        vertical-align: top;\n",
       "    }\n",
       "\n",
       "    .dataframe thead th {\n",
       "        text-align: right;\n",
       "    }\n",
       "</style>\n",
       "<table border=\"1\" class=\"dataframe\">\n",
       "  <thead>\n",
       "    <tr style=\"text-align: right;\">\n",
       "      <th></th>\n",
       "      <th>tweet_id</th>\n",
       "      <th>timestamp</th>\n",
       "      <th>source</th>\n",
       "      <th>text</th>\n",
       "      <th>rating_numerator</th>\n",
       "      <th>rating_denominator</th>\n",
       "      <th>name</th>\n",
       "      <th>dog_kind</th>\n",
       "      <th>jpg_url</th>\n",
       "      <th>img_num</th>\n",
       "      <th>...</th>\n",
       "      <th>p1_conf</th>\n",
       "      <th>p1_dog</th>\n",
       "      <th>p2</th>\n",
       "      <th>p2_conf</th>\n",
       "      <th>p2_dog</th>\n",
       "      <th>p3</th>\n",
       "      <th>p3_conf</th>\n",
       "      <th>p3_dog</th>\n",
       "      <th>favorite_count</th>\n",
       "      <th>retweet_count</th>\n",
       "    </tr>\n",
       "  </thead>\n",
       "  <tbody>\n",
       "    <tr>\n",
       "      <th>1413</th>\n",
       "      <td>681339448655802368</td>\n",
       "      <td>2015-12-28 05:02:37</td>\n",
       "      <td>&lt;a href=\"http://twitter.com/download/iphone\" r...</td>\n",
       "      <td>This is Asher. He's not wearing a seatbelt or ...</td>\n",
       "      <td>9</td>\n",
       "      <td>10</td>\n",
       "      <td>Asher</td>\n",
       "      <td>NaN</td>\n",
       "      <td>https://pbs.twimg.com/media/CXSanNkWkAAqR9M.jpg</td>\n",
       "      <td>1</td>\n",
       "      <td>...</td>\n",
       "      <td>0.532441</td>\n",
       "      <td>False</td>\n",
       "      <td>Labrador_retriever</td>\n",
       "      <td>0.094615</td>\n",
       "      <td>True</td>\n",
       "      <td>kuvasz</td>\n",
       "      <td>0.089863</td>\n",
       "      <td>True</td>\n",
       "      <td>8378</td>\n",
       "      <td>3639</td>\n",
       "    </tr>\n",
       "    <tr>\n",
       "      <th>1949</th>\n",
       "      <td>667861340749471744</td>\n",
       "      <td>2015-11-21 00:25:26</td>\n",
       "      <td>&lt;a href=\"http://twitter.com/download/iphone\" r...</td>\n",
       "      <td>This is a Shotokon Macadamia mix named Cheryl....</td>\n",
       "      <td>9</td>\n",
       "      <td>10</td>\n",
       "      <td>a</td>\n",
       "      <td>NaN</td>\n",
       "      <td>https://pbs.twimg.com/media/CUS4WJ-UsAEJj10.jpg</td>\n",
       "      <td>1</td>\n",
       "      <td>...</td>\n",
       "      <td>0.967275</td>\n",
       "      <td>True</td>\n",
       "      <td>Siberian_husky</td>\n",
       "      <td>0.016168</td>\n",
       "      <td>True</td>\n",
       "      <td>Eskimo_dog</td>\n",
       "      <td>0.011277</td>\n",
       "      <td>True</td>\n",
       "      <td>216</td>\n",
       "      <td>68</td>\n",
       "    </tr>\n",
       "    <tr>\n",
       "      <th>1814</th>\n",
       "      <td>670442337873600512</td>\n",
       "      <td>2015-11-28 03:21:24</td>\n",
       "      <td>&lt;a href=\"http://twitter.com/download/iphone\" r...</td>\n",
       "      <td>Meet Koda. He's large. Looks very soft. Great ...</td>\n",
       "      <td>11</td>\n",
       "      <td>10</td>\n",
       "      <td>Koda</td>\n",
       "      <td>NaN</td>\n",
       "      <td>https://pbs.twimg.com/media/CU3jwAYWwAAhdAv.jpg</td>\n",
       "      <td>1</td>\n",
       "      <td>...</td>\n",
       "      <td>0.403552</td>\n",
       "      <td>True</td>\n",
       "      <td>otterhound</td>\n",
       "      <td>0.256302</td>\n",
       "      <td>True</td>\n",
       "      <td>Irish_terrier</td>\n",
       "      <td>0.187315</td>\n",
       "      <td>True</td>\n",
       "      <td>569</td>\n",
       "      <td>173</td>\n",
       "    </tr>\n",
       "    <tr>\n",
       "      <th>760</th>\n",
       "      <td>751937170840121344</td>\n",
       "      <td>2016-07-10 00:32:46</td>\n",
       "      <td>&lt;a href=\"http://twitter.com/download/iphone\" r...</td>\n",
       "      <td>This is Ruby. Her ice cube is melting. She doe...</td>\n",
       "      <td>11</td>\n",
       "      <td>10</td>\n",
       "      <td>Ruby</td>\n",
       "      <td>NaN</td>\n",
       "      <td>https://pbs.twimg.com/media/Cm9q2d3XEAAqO2m.jpg</td>\n",
       "      <td>1</td>\n",
       "      <td>...</td>\n",
       "      <td>0.424168</td>\n",
       "      <td>True</td>\n",
       "      <td>teddy</td>\n",
       "      <td>0.260562</td>\n",
       "      <td>False</td>\n",
       "      <td>golden_retriever</td>\n",
       "      <td>0.127432</td>\n",
       "      <td>True</td>\n",
       "      <td>4722</td>\n",
       "      <td>1174</td>\n",
       "    </tr>\n",
       "    <tr>\n",
       "      <th>1437</th>\n",
       "      <td>680221482581123072</td>\n",
       "      <td>2015-12-25 03:00:14</td>\n",
       "      <td>&lt;a href=\"http://twitter.com/download/iphone\" r...</td>\n",
       "      <td>This is CeCe. She's patiently waiting for Sant...</td>\n",
       "      <td>10</td>\n",
       "      <td>10</td>\n",
       "      <td>CeCe</td>\n",
       "      <td>NaN</td>\n",
       "      <td>https://pbs.twimg.com/media/CXCh0QZW8AALdXm.jpg</td>\n",
       "      <td>1</td>\n",
       "      <td>...</td>\n",
       "      <td>0.240173</td>\n",
       "      <td>False</td>\n",
       "      <td>hen</td>\n",
       "      <td>0.146222</td>\n",
       "      <td>False</td>\n",
       "      <td>abaya</td>\n",
       "      <td>0.139342</td>\n",
       "      <td>False</td>\n",
       "      <td>1318</td>\n",
       "      <td>254</td>\n",
       "    </tr>\n",
       "    <tr>\n",
       "      <th>1656</th>\n",
       "      <td>673680198160809984</td>\n",
       "      <td>2015-12-07 01:47:30</td>\n",
       "      <td>&lt;a href=\"http://twitter.com/download/iphone\" r...</td>\n",
       "      <td>This is Shnuggles. I would kill for Shnuggles....</td>\n",
       "      <td>13</td>\n",
       "      <td>10</td>\n",
       "      <td>Shnuggles</td>\n",
       "      <td>NaN</td>\n",
       "      <td>https://pbs.twimg.com/media/CVlkid8WoAAqDlB.jpg</td>\n",
       "      <td>1</td>\n",
       "      <td>...</td>\n",
       "      <td>0.989853</td>\n",
       "      <td>True</td>\n",
       "      <td>Arctic_fox</td>\n",
       "      <td>0.003344</td>\n",
       "      <td>False</td>\n",
       "      <td>chow</td>\n",
       "      <td>0.002802</td>\n",
       "      <td>True</td>\n",
       "      <td>1198</td>\n",
       "      <td>401</td>\n",
       "    </tr>\n",
       "    <tr>\n",
       "      <th>1200</th>\n",
       "      <td>696713835009417216</td>\n",
       "      <td>2016-02-08 15:14:57</td>\n",
       "      <td>&lt;a href=\"http://twitter.com/download/iphone\" r...</td>\n",
       "      <td>This is Trevith. He's a Swiss Mountain Roadwoo...</td>\n",
       "      <td>9</td>\n",
       "      <td>10</td>\n",
       "      <td>Trevith</td>\n",
       "      <td>pupper</td>\n",
       "      <td>https://pbs.twimg.com/media/Cas5h-wWcAA3nAc.jpg</td>\n",
       "      <td>1</td>\n",
       "      <td>...</td>\n",
       "      <td>0.379797</td>\n",
       "      <td>False</td>\n",
       "      <td>Chesapeake_Bay_retriever</td>\n",
       "      <td>0.321589</td>\n",
       "      <td>True</td>\n",
       "      <td>vizsla</td>\n",
       "      <td>0.116931</td>\n",
       "      <td>True</td>\n",
       "      <td>2130</td>\n",
       "      <td>574</td>\n",
       "    </tr>\n",
       "    <tr>\n",
       "      <th>1063</th>\n",
       "      <td>708109389455101952</td>\n",
       "      <td>2016-03-11 01:56:49</td>\n",
       "      <td>&lt;a href=\"http://twitter.com/download/iphone\" r...</td>\n",
       "      <td>This is Remington. He was caught off guard by ...</td>\n",
       "      <td>10</td>\n",
       "      <td>10</td>\n",
       "      <td>Remington</td>\n",
       "      <td>NaN</td>\n",
       "      <td>https://pbs.twimg.com/media/CdO1u9vWAAApj2V.jpg</td>\n",
       "      <td>1</td>\n",
       "      <td>...</td>\n",
       "      <td>0.516106</td>\n",
       "      <td>True</td>\n",
       "      <td>American_Staffordshire_terrier</td>\n",
       "      <td>0.236075</td>\n",
       "      <td>True</td>\n",
       "      <td>kelpie</td>\n",
       "      <td>0.069750</td>\n",
       "      <td>True</td>\n",
       "      <td>1761</td>\n",
       "      <td>493</td>\n",
       "    </tr>\n",
       "    <tr>\n",
       "      <th>2028</th>\n",
       "      <td>666373753744588802</td>\n",
       "      <td>2015-11-16 21:54:18</td>\n",
       "      <td>&lt;a href=\"http://twitter.com/download/iphone\" r...</td>\n",
       "      <td>Those are sunglasses and a jean jacket. 11/10 ...</td>\n",
       "      <td>11</td>\n",
       "      <td>10</td>\n",
       "      <td>NaN</td>\n",
       "      <td>NaN</td>\n",
       "      <td>https://pbs.twimg.com/media/CT9vZEYWUAAlZ05.jpg</td>\n",
       "      <td>1</td>\n",
       "      <td>...</td>\n",
       "      <td>0.326467</td>\n",
       "      <td>True</td>\n",
       "      <td>Afghan_hound</td>\n",
       "      <td>0.259551</td>\n",
       "      <td>True</td>\n",
       "      <td>briard</td>\n",
       "      <td>0.206803</td>\n",
       "      <td>True</td>\n",
       "      <td>158</td>\n",
       "      <td>73</td>\n",
       "    </tr>\n",
       "    <tr>\n",
       "      <th>812</th>\n",
       "      <td>747219827526344708</td>\n",
       "      <td>2016-06-27 00:07:44</td>\n",
       "      <td>&lt;a href=\"http://twitter.com/download/iphone\" r...</td>\n",
       "      <td>This is Atticus. He's remaining calm but his c...</td>\n",
       "      <td>11</td>\n",
       "      <td>10</td>\n",
       "      <td>Atticus</td>\n",
       "      <td>NaN</td>\n",
       "      <td>https://pbs.twimg.com/media/Cl6odlVWQAIy5uk.jpg</td>\n",
       "      <td>2</td>\n",
       "      <td>...</td>\n",
       "      <td>0.548018</td>\n",
       "      <td>True</td>\n",
       "      <td>marmot</td>\n",
       "      <td>0.165503</td>\n",
       "      <td>False</td>\n",
       "      <td>collie</td>\n",
       "      <td>0.043003</td>\n",
       "      <td>True</td>\n",
       "      <td>4771</td>\n",
       "      <td>1416</td>\n",
       "    </tr>\n",
       "  </tbody>\n",
       "</table>\n",
       "<p>10 rows × 21 columns</p>\n",
       "</div>"
      ],
      "text/plain": [
       "                tweet_id           timestamp  \\\n",
       "1413  681339448655802368 2015-12-28 05:02:37   \n",
       "1949  667861340749471744 2015-11-21 00:25:26   \n",
       "1814  670442337873600512 2015-11-28 03:21:24   \n",
       "760   751937170840121344 2016-07-10 00:32:46   \n",
       "1437  680221482581123072 2015-12-25 03:00:14   \n",
       "1656  673680198160809984 2015-12-07 01:47:30   \n",
       "1200  696713835009417216 2016-02-08 15:14:57   \n",
       "1063  708109389455101952 2016-03-11 01:56:49   \n",
       "2028  666373753744588802 2015-11-16 21:54:18   \n",
       "812   747219827526344708 2016-06-27 00:07:44   \n",
       "\n",
       "                                                 source  \\\n",
       "1413  <a href=\"http://twitter.com/download/iphone\" r...   \n",
       "1949  <a href=\"http://twitter.com/download/iphone\" r...   \n",
       "1814  <a href=\"http://twitter.com/download/iphone\" r...   \n",
       "760   <a href=\"http://twitter.com/download/iphone\" r...   \n",
       "1437  <a href=\"http://twitter.com/download/iphone\" r...   \n",
       "1656  <a href=\"http://twitter.com/download/iphone\" r...   \n",
       "1200  <a href=\"http://twitter.com/download/iphone\" r...   \n",
       "1063  <a href=\"http://twitter.com/download/iphone\" r...   \n",
       "2028  <a href=\"http://twitter.com/download/iphone\" r...   \n",
       "812   <a href=\"http://twitter.com/download/iphone\" r...   \n",
       "\n",
       "                                                   text  rating_numerator  \\\n",
       "1413  This is Asher. He's not wearing a seatbelt or ...                 9   \n",
       "1949  This is a Shotokon Macadamia mix named Cheryl....                 9   \n",
       "1814  Meet Koda. He's large. Looks very soft. Great ...                11   \n",
       "760   This is Ruby. Her ice cube is melting. She doe...                11   \n",
       "1437  This is CeCe. She's patiently waiting for Sant...                10   \n",
       "1656  This is Shnuggles. I would kill for Shnuggles....                13   \n",
       "1200  This is Trevith. He's a Swiss Mountain Roadwoo...                 9   \n",
       "1063  This is Remington. He was caught off guard by ...                10   \n",
       "2028  Those are sunglasses and a jean jacket. 11/10 ...                11   \n",
       "812   This is Atticus. He's remaining calm but his c...                11   \n",
       "\n",
       "      rating_denominator       name dog_kind  \\\n",
       "1413                  10      Asher      NaN   \n",
       "1949                  10          a      NaN   \n",
       "1814                  10       Koda      NaN   \n",
       "760                   10       Ruby      NaN   \n",
       "1437                  10       CeCe      NaN   \n",
       "1656                  10  Shnuggles      NaN   \n",
       "1200                  10    Trevith   pupper   \n",
       "1063                  10  Remington      NaN   \n",
       "2028                  10        NaN      NaN   \n",
       "812                   10    Atticus      NaN   \n",
       "\n",
       "                                              jpg_url  img_num      ...        \\\n",
       "1413  https://pbs.twimg.com/media/CXSanNkWkAAqR9M.jpg        1      ...         \n",
       "1949  https://pbs.twimg.com/media/CUS4WJ-UsAEJj10.jpg        1      ...         \n",
       "1814  https://pbs.twimg.com/media/CU3jwAYWwAAhdAv.jpg        1      ...         \n",
       "760   https://pbs.twimg.com/media/Cm9q2d3XEAAqO2m.jpg        1      ...         \n",
       "1437  https://pbs.twimg.com/media/CXCh0QZW8AALdXm.jpg        1      ...         \n",
       "1656  https://pbs.twimg.com/media/CVlkid8WoAAqDlB.jpg        1      ...         \n",
       "1200  https://pbs.twimg.com/media/Cas5h-wWcAA3nAc.jpg        1      ...         \n",
       "1063  https://pbs.twimg.com/media/CdO1u9vWAAApj2V.jpg        1      ...         \n",
       "2028  https://pbs.twimg.com/media/CT9vZEYWUAAlZ05.jpg        1      ...         \n",
       "812   https://pbs.twimg.com/media/Cl6odlVWQAIy5uk.jpg        2      ...         \n",
       "\n",
       "       p1_conf  p1_dog                              p2   p2_conf  p2_dog  \\\n",
       "1413  0.532441   False              Labrador_retriever  0.094615    True   \n",
       "1949  0.967275    True                  Siberian_husky  0.016168    True   \n",
       "1814  0.403552    True                      otterhound  0.256302    True   \n",
       "760   0.424168    True                           teddy  0.260562   False   \n",
       "1437  0.240173   False                             hen  0.146222   False   \n",
       "1656  0.989853    True                      Arctic_fox  0.003344   False   \n",
       "1200  0.379797   False        Chesapeake_Bay_retriever  0.321589    True   \n",
       "1063  0.516106    True  American_Staffordshire_terrier  0.236075    True   \n",
       "2028  0.326467    True                    Afghan_hound  0.259551    True   \n",
       "812   0.548018    True                          marmot  0.165503   False   \n",
       "\n",
       "                    p3   p3_conf  p3_dog  favorite_count  retweet_count  \n",
       "1413            kuvasz  0.089863    True            8378           3639  \n",
       "1949        Eskimo_dog  0.011277    True             216             68  \n",
       "1814     Irish_terrier  0.187315    True             569            173  \n",
       "760   golden_retriever  0.127432    True            4722           1174  \n",
       "1437             abaya  0.139342   False            1318            254  \n",
       "1656              chow  0.002802    True            1198            401  \n",
       "1200            vizsla  0.116931    True            2130            574  \n",
       "1063            kelpie  0.069750    True            1761            493  \n",
       "2028            briard  0.206803    True             158             73  \n",
       "812             collie  0.043003    True            4771           1416  \n",
       "\n",
       "[10 rows x 21 columns]"
      ]
     },
     "execution_count": 34,
     "metadata": {},
     "output_type": "execute_result"
    }
   ],
   "source": [
    "df_dog_tweets.sample(10)"
   ]
  },
  {
   "cell_type": "markdown",
   "metadata": {},
   "source": [
    "## Storing Data\n",
    "Save gathered, assessed, and cleaned master dataset to a CSV file named \"twitter_archive_master.csv\"."
   ]
  },
  {
   "cell_type": "code",
   "execution_count": 35,
   "metadata": {},
   "outputs": [],
   "source": [
    "df_dog_tweets.to_csv(\"twitter_archive_master.csv\",index=False)"
   ]
  },
  {
   "cell_type": "code",
   "execution_count": 7,
   "metadata": {},
   "outputs": [
    {
     "data": {
      "text/html": [
       "<div>\n",
       "<style scoped>\n",
       "    .dataframe tbody tr th:only-of-type {\n",
       "        vertical-align: middle;\n",
       "    }\n",
       "\n",
       "    .dataframe tbody tr th {\n",
       "        vertical-align: top;\n",
       "    }\n",
       "\n",
       "    .dataframe thead th {\n",
       "        text-align: right;\n",
       "    }\n",
       "</style>\n",
       "<table border=\"1\" class=\"dataframe\">\n",
       "  <thead>\n",
       "    <tr style=\"text-align: right;\">\n",
       "      <th></th>\n",
       "      <th>tweet_id</th>\n",
       "      <th>timestamp</th>\n",
       "      <th>source</th>\n",
       "      <th>text</th>\n",
       "      <th>rating_numerator</th>\n",
       "      <th>rating_denominator</th>\n",
       "      <th>name</th>\n",
       "      <th>dog_kind</th>\n",
       "      <th>jpg_url</th>\n",
       "      <th>img_num</th>\n",
       "      <th>...</th>\n",
       "      <th>p1_conf</th>\n",
       "      <th>p1_dog</th>\n",
       "      <th>p2</th>\n",
       "      <th>p2_conf</th>\n",
       "      <th>p2_dog</th>\n",
       "      <th>p3</th>\n",
       "      <th>p3_conf</th>\n",
       "      <th>p3_dog</th>\n",
       "      <th>favorite_count</th>\n",
       "      <th>retweet_count</th>\n",
       "    </tr>\n",
       "  </thead>\n",
       "  <tbody>\n",
       "    <tr>\n",
       "      <th>0</th>\n",
       "      <td>892420643555336193</td>\n",
       "      <td>2017-08-01 16:23:56</td>\n",
       "      <td>&lt;a href=\"http://twitter.com/download/iphone\" r...</td>\n",
       "      <td>This is Phineas. He's a mystical boy. Only eve...</td>\n",
       "      <td>13</td>\n",
       "      <td>10</td>\n",
       "      <td>Phineas</td>\n",
       "      <td>NaN</td>\n",
       "      <td>https://pbs.twimg.com/media/DGKD1-bXoAAIAUK.jpg</td>\n",
       "      <td>1</td>\n",
       "      <td>...</td>\n",
       "      <td>0.097049</td>\n",
       "      <td>False</td>\n",
       "      <td>bagel</td>\n",
       "      <td>0.085851</td>\n",
       "      <td>False</td>\n",
       "      <td>banana</td>\n",
       "      <td>0.076110</td>\n",
       "      <td>False</td>\n",
       "      <td>32867</td>\n",
       "      <td>6876</td>\n",
       "    </tr>\n",
       "    <tr>\n",
       "      <th>1</th>\n",
       "      <td>892177421306343426</td>\n",
       "      <td>2017-08-01 00:17:27</td>\n",
       "      <td>&lt;a href=\"http://twitter.com/download/iphone\" r...</td>\n",
       "      <td>This is Tilly. She's just checking pup on you....</td>\n",
       "      <td>13</td>\n",
       "      <td>10</td>\n",
       "      <td>Tilly</td>\n",
       "      <td>NaN</td>\n",
       "      <td>https://pbs.twimg.com/media/DGGmoV4XsAAUL6n.jpg</td>\n",
       "      <td>1</td>\n",
       "      <td>...</td>\n",
       "      <td>0.323581</td>\n",
       "      <td>True</td>\n",
       "      <td>Pekinese</td>\n",
       "      <td>0.090647</td>\n",
       "      <td>True</td>\n",
       "      <td>papillon</td>\n",
       "      <td>0.068957</td>\n",
       "      <td>True</td>\n",
       "      <td>28394</td>\n",
       "      <td>5178</td>\n",
       "    </tr>\n",
       "    <tr>\n",
       "      <th>2</th>\n",
       "      <td>891815181378084864</td>\n",
       "      <td>2017-07-31 00:18:03</td>\n",
       "      <td>&lt;a href=\"http://twitter.com/download/iphone\" r...</td>\n",
       "      <td>This is Archie. He is a rare Norwegian Pouncin...</td>\n",
       "      <td>12</td>\n",
       "      <td>10</td>\n",
       "      <td>Archie</td>\n",
       "      <td>NaN</td>\n",
       "      <td>https://pbs.twimg.com/media/DGBdLU1WsAANxJ9.jpg</td>\n",
       "      <td>1</td>\n",
       "      <td>...</td>\n",
       "      <td>0.716012</td>\n",
       "      <td>True</td>\n",
       "      <td>malamute</td>\n",
       "      <td>0.078253</td>\n",
       "      <td>True</td>\n",
       "      <td>kelpie</td>\n",
       "      <td>0.031379</td>\n",
       "      <td>True</td>\n",
       "      <td>21341</td>\n",
       "      <td>3420</td>\n",
       "    </tr>\n",
       "  </tbody>\n",
       "</table>\n",
       "<p>3 rows × 21 columns</p>\n",
       "</div>"
      ],
      "text/plain": [
       "             tweet_id            timestamp  \\\n",
       "0  892420643555336193  2017-08-01 16:23:56   \n",
       "1  892177421306343426  2017-08-01 00:17:27   \n",
       "2  891815181378084864  2017-07-31 00:18:03   \n",
       "\n",
       "                                              source  \\\n",
       "0  <a href=\"http://twitter.com/download/iphone\" r...   \n",
       "1  <a href=\"http://twitter.com/download/iphone\" r...   \n",
       "2  <a href=\"http://twitter.com/download/iphone\" r...   \n",
       "\n",
       "                                                text  rating_numerator  \\\n",
       "0  This is Phineas. He's a mystical boy. Only eve...                13   \n",
       "1  This is Tilly. She's just checking pup on you....                13   \n",
       "2  This is Archie. He is a rare Norwegian Pouncin...                12   \n",
       "\n",
       "   rating_denominator     name dog_kind  \\\n",
       "0                  10  Phineas      NaN   \n",
       "1                  10    Tilly      NaN   \n",
       "2                  10   Archie      NaN   \n",
       "\n",
       "                                           jpg_url  img_num      ...        \\\n",
       "0  https://pbs.twimg.com/media/DGKD1-bXoAAIAUK.jpg        1      ...         \n",
       "1  https://pbs.twimg.com/media/DGGmoV4XsAAUL6n.jpg        1      ...         \n",
       "2  https://pbs.twimg.com/media/DGBdLU1WsAANxJ9.jpg        1      ...         \n",
       "\n",
       "    p1_conf  p1_dog        p2   p2_conf  p2_dog        p3   p3_conf  p3_dog  \\\n",
       "0  0.097049   False     bagel  0.085851   False    banana  0.076110   False   \n",
       "1  0.323581    True  Pekinese  0.090647    True  papillon  0.068957    True   \n",
       "2  0.716012    True  malamute  0.078253    True    kelpie  0.031379    True   \n",
       "\n",
       "   favorite_count  retweet_count  \n",
       "0           32867           6876  \n",
       "1           28394           5178  \n",
       "2           21341           3420  \n",
       "\n",
       "[3 rows x 21 columns]"
      ]
     },
     "execution_count": 7,
     "metadata": {},
     "output_type": "execute_result"
    }
   ],
   "source": [
    "df_twitter_archive_master = pd.read_csv('twitter_archive_master.csv')\n",
    "df_twitter_archive_master.head(3)"
   ]
  },
  {
   "cell_type": "markdown",
   "metadata": {},
   "source": [
    "## Analyzing and Visualizing Data\n",
    "In this section, analyze and visualize your wrangled data. You must produce at least **three (3) insights and one (1) visualization.**"
   ]
  },
  {
   "cell_type": "markdown",
   "metadata": {},
   "source": [
    "### Is there a relation between the rating and the number of retweets  and number of favorites?"
   ]
  },
  {
   "cell_type": "markdown",
   "metadata": {
    "collapsed": true
   },
   "source": [
    "### Visualization"
   ]
  },
  {
   "cell_type": "code",
   "execution_count": 10,
   "metadata": {},
   "outputs": [
    {
     "data": {
      "text/plain": [
       "12      444\n",
       "10      415\n",
       "11      392\n",
       "13      249\n",
       "9       150\n",
       "8        95\n",
       "7        52\n",
       "5        33\n",
       "14       33\n",
       "6        32\n",
       "3        19\n",
       "4        16\n",
       "2         9\n",
       "1         5\n",
       "1776      1\n",
       "24        1\n",
       "26        1\n",
       "420       1\n",
       "27        1\n",
       "44        1\n",
       "45        1\n",
       "50        1\n",
       "60        1\n",
       "75        1\n",
       "80        1\n",
       "84        1\n",
       "88        1\n",
       "99        1\n",
       "121       1\n",
       "144       1\n",
       "165       1\n",
       "204       1\n",
       "0         1\n",
       "Name: rating_numerator, dtype: int64"
      ]
     },
     "execution_count": 10,
     "metadata": {},
     "output_type": "execute_result"
    }
   ],
   "source": [
    "df_twitter_archive_master"
   ]
  },
  {
   "cell_type": "code",
   "execution_count": 15,
   "metadata": {},
   "outputs": [
    {
     "data": {
      "text/plain": [
       "12     444\n",
       "10     415\n",
       "11     392\n",
       "13     249\n",
       "9      150\n",
       "8       95\n",
       "7       52\n",
       "14      33\n",
       "5       33\n",
       "6       32\n",
       "3       19\n",
       "4       16\n",
       "2        9\n",
       "1        5\n",
       "204      1\n",
       "24       1\n",
       "165      1\n",
       "26       1\n",
       "27       1\n",
       "44       1\n",
       "45       1\n",
       "50       1\n",
       "60       1\n",
       "75       1\n",
       "80       1\n",
       "84       1\n",
       "88       1\n",
       "99       1\n",
       "121      1\n",
       "144      1\n",
       "0        1\n",
       "Name: rating_numerator, dtype: int64"
      ]
     },
     "execution_count": 15,
     "metadata": {},
     "output_type": "execute_result"
    }
   ],
   "source": [
    "df_twitter_archive_master = df_twitter_archive_master.loc[df_twitter_archive_master[\"rating_numerator\"] <300]\n",
    "df_twitter_archive_master['rating_numerator'].value_counts()"
   ]
  },
  {
   "cell_type": "code",
   "execution_count": 16,
   "metadata": {},
   "outputs": [
    {
     "data": {
      "text/plain": [
       "Text(0.5,1,'The relationship between the rating and the number of retweets')"
      ]
     },
     "execution_count": 16,
     "metadata": {},
     "output_type": "execute_result"
    },
    {
     "data": {
      "image/png": "[encoded data removed]",
      "text/plain": [
       "<matplotlib.figure.Figure at 0x7f43b1fe1eb8>"
      ]
     },
     "metadata": {
      "needs_background": "light"
     },
     "output_type": "display_data"
    }
   ],
   "source": [
    "# Because the rating denominator is a constant(10),\n",
    "# we will only compare the rating numerator with the retweet count and favorite_count.\n",
    "plt.scatter(df_twitter_archive_master['retweet_count'],\n",
    "            df_twitter_archive_master['rating_numerator'])\n",
    "plt.xlabel('Retweet count')\n",
    "plt.ylabel('Rating numerator')\n",
    "plt.title('The relationship between the rating and the number of retweets')"
   ]
  },
  {
   "cell_type": "code",
   "execution_count": 17,
   "metadata": {},
   "outputs": [
    {
     "data": {
      "text/plain": [
       "Text(0.5,1,'The relationship between the rating and the number of favorites')"
      ]
     },
     "execution_count": 17,
     "metadata": {},
     "output_type": "execute_result"
    },
    {
     "data": {
      "image/png": "[encoded data removed]",
      "text/plain": [
       "<matplotlib.figure.Figure at 0x7f43b1fa1390>"
      ]
     },
     "metadata": {
      "needs_background": "light"
     },
     "output_type": "display_data"
    }
   ],
   "source": [
    "plt.scatter(df_twitter_archive_master['favorite_count'],\n",
    "            df_twitter_archive_master['rating_numerator'])\n",
    "plt.xlabel('Favorite count')\n",
    "plt.ylabel('Rating numerator')\n",
    "plt.title('The relationship between the rating and the number of favorites')"
   ]
  },
  {
   "cell_type": "markdown",
   "metadata": {},
   "source": [
    "### Insights:\n",
    "It is clear that the correlation between the rating and the virality of the tweet is weak.\n",
    "1. We can see that the rating doesn't have a noticeable effect on the number of retweets.\n",
    "\n",
    "2. Also, the rating doesn't affect the number of favorites.\n"
   ]
  },
  {
   "cell_type": "markdown",
   "metadata": {},
   "source": [
    "### Which kind of dog was rated the most by the account?"
   ]
  },
  {
   "cell_type": "markdown",
   "metadata": {
    "collapsed": true
   },
   "source": [
    "### Visualization"
   ]
  },
  {
   "cell_type": "code",
   "execution_count": 17,
   "metadata": {},
   "outputs": [
    {
     "data": {
      "text/plain": [
       "pupper     220\n",
       "doggo       70\n",
       "puppo       27\n",
       "floofer      3\n",
       "Name: dog_kind, dtype: int64"
      ]
     },
     "execution_count": 17,
     "metadata": {},
     "output_type": "execute_result"
    }
   ],
   "source": [
    "# Let's create a list of dog breed names and how many times each one was repeated.\n",
    "dog_kind_names = df_twitter_archive_master['dog_kind'].value_counts()\n",
    "dog_kind_names"
   ]
  },
  {
   "cell_type": "code",
   "execution_count": 20,
   "metadata": {},
   "outputs": [
    {
     "data": {
      "image/png": "[encoded data removed]",
      "text/plain": [
       "<matplotlib.figure.Figure at 0x7fe6e5e95a90>"
      ]
     },
     "metadata": {},
     "output_type": "display_data"
    }
   ],
   "source": [
    "labels = ['Pupper','Doggo', 'Puppo','Floofer']\n",
    "plt.pie(dog_kind_names, labels=labels, autopct='%1.1f%%')\n",
    "plt.legend(title='dog kinds percentege')\n",
    "plt.show()\n"
   ]
  },
  {
   "cell_type": "markdown",
   "metadata": {},
   "source": [
    "### Insights:\n",
    " It is clear that the breed 'Pupper' is the most frequently rated dog breed by this Twitter account.\n",
    "\n",
    "\n"
   ]
  },
  {
   "cell_type": "code",
   "execution_count": null,
   "metadata": {},
   "outputs": [],
   "source": []
  }
 ],
 "metadata": {
  "extensions": {
   "jupyter_dashboards": {
    "activeView": "report_default",
    "version": 1,
    "views": {
     "grid_default": {
      "cellMargin": 10,
      "defaultCellHeight": 20,
      "maxColumns": 12,
      "name": "grid",
      "type": "grid"
     },
     "report_default": {
      "name": "report",
      "type": "report"
     }
    }
   }
  },
  "kernelspec": {
   "display_name": "Python 3",
   "language": "python",
   "name": "python3"
  },
  "language_info": {
   "codemirror_mode": {
    "name": "ipython",
    "version": 3
   },
   "file_extension": ".py",
   "mimetype": "text/x-python",
   "name": "python",
   "nbconvert_exporter": "python",
   "pygments_lexer": "ipython3",
   "version": "3.6.3"
  }
 },
 "nbformat": 4,
 "nbformat_minor": 2
}
